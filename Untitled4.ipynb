{
  "cells": [
    {
      "cell_type": "markdown",
      "metadata": {
        "id": "view-in-github",
        "colab_type": "text"
      },
      "source": [
        "<a href=\"https://colab.research.google.com/github/y123ash/AI7/blob/main/Untitled4.ipynb\" target=\"_parent\"><img src=\"https://colab.research.google.com/assets/colab-badge.svg\" alt=\"Open In Colab\"/></a>"
      ]
    },
    {
      "cell_type": "code",
      "execution_count": 2,
      "metadata": {
        "colab": {
          "base_uri": "https://localhost:8080/",
          "height": 137
        },
        "id": "lyOF6Rr--db5",
        "outputId": "fae7e0ed-f14e-42a9-9e5e-18e179adae32"
      },
      "outputs": [
        {
          "output_type": "display_data",
          "data": {
            "text/plain": [
              "\u001b[92m───────────────────────────────────────── \u001b[0m\u001b[1;36mAgent-E: AI Job Assistant Demo\u001b[0m\u001b[92m ──────────────────────────────────────────\u001b[0m\n"
            ],
            "text/html": [
              "<pre style=\"white-space:pre;overflow-x:auto;line-height:normal;font-family:Menlo,'DejaVu Sans Mono',consolas,'Courier New',monospace\"><span style=\"color: #00ff00; text-decoration-color: #00ff00\">───────────────────────────────────────── </span><span style=\"color: #008080; text-decoration-color: #008080; font-weight: bold\">Agent-E: AI Job Assistant Demo</span><span style=\"color: #00ff00; text-decoration-color: #00ff00\"> ──────────────────────────────────────────</span>\n",
              "</pre>\n"
            ]
          },
          "metadata": {}
        },
        {
          "output_type": "display_data",
          "data": {
            "text/plain": [
              "                                           🚀 \u001b[1;33mSetting up environment\u001b[0m\u001b[1;33m...\u001b[0m                                            \n"
            ],
            "text/html": [
              "<pre style=\"white-space:pre;overflow-x:auto;line-height:normal;font-family:Menlo,'DejaVu Sans Mono',consolas,'Courier New',monospace\">                                           🚀 <span style=\"color: #808000; text-decoration-color: #808000; font-weight: bold\">Setting up environment...</span>                                            \n",
              "</pre>\n"
            ]
          },
          "metadata": {}
        },
        {
          "output_type": "stream",
          "name": "stdout",
          "text": [
            "Mounted at /content/drive\n"
          ]
        },
        {
          "output_type": "display_data",
          "data": {
            "text/plain": [
              "\u001b[33m📦 Extracting project files\u001b[0m\u001b[33m...\u001b[0m\n"
            ],
            "text/html": [
              "<pre style=\"white-space:pre;overflow-x:auto;line-height:normal;font-family:Menlo,'DejaVu Sans Mono',consolas,'Courier New',monospace\"><span style=\"color: #808000; text-decoration-color: #808000\">📦 Extracting project files...</span>\n",
              "</pre>\n"
            ]
          },
          "metadata": {}
        },
        {
          "output_type": "display_data",
          "data": {
            "text/plain": [
              "\u001b[32m✅ Project files extracted.\u001b[0m\n"
            ],
            "text/html": [
              "<pre style=\"white-space:pre;overflow-x:auto;line-height:normal;font-family:Menlo,'DejaVu Sans Mono',consolas,'Courier New',monospace\"><span style=\"color: #008000; text-decoration-color: #008000\">✅ Project files extracted.</span>\n",
              "</pre>\n"
            ]
          },
          "metadata": {}
        }
      ],
      "source": [
        "from rich.console import Console\n",
        "console = Console()\n",
        "console.rule(\"[bold cyan]Agent-E: AI Job Assistant Demo\")\n",
        "console.print(\"🚀 [bold yellow]Setting up environment...[/bold yellow]\", justify=\"center\")\n",
        "\n",
        "from google.colab import drive\n",
        "drive.mount('/content/drive')\n",
        "\n",
        "console.print(\"📦 Extracting project files...\", style=\"yellow\")\n",
        "!unzip -q \"/content/drive/MyDrive/Agent-E-master_xyz (3).zip\" -d /content/#[atul.teotia@turacoz.com]\n",
        "console.print(\"✅ Project files extracted.\", style=\"green\")"
      ]
    },
    {
      "cell_type": "code",
      "execution_count": 3,
      "metadata": {
        "id": "uSBiF6Gm_DU4"
      },
      "outputs": [],
      "source": [
        "# ✅ Overwrite pyproject.toml with setuptools and wheel (instead of uv.build_api)\n",
        "with open(\"/content/drive/MyDrive/Agent-E-master_xyz/setup.py\", \"w\") as f:\n",
        "    f.write(\"\"\"from setuptools import setup, find_packages\n",
        "\n",
        "setup(\n",
        "    name='Agent-E',\n",
        "    version='0.1.0',\n",
        "    packages=find_packages(),\n",
        "    entry_points={\n",
        "        'console_scripts': [\n",
        "            'agent-e = ae.main:main'  # ✅ module:function\n",
        "        ]\n",
        "    },\n",
        ")\n",
        "\"\"\")"
      ]
    },
    {
      "cell_type": "code",
      "execution_count": 4,
      "metadata": {
        "id": "noORVJK-_bNE"
      },
      "outputs": [],
      "source": [
        "# ✅ Overwrite pyproject.toml with setuptools and wheel (instead of uv.build_api)\n",
        "with open(\"/content/drive/MyDrive/Agent-E-master_xyz/pyproject.toml\", \"w\") as f:\n",
        "    f.write(\"\"\"[build-system]\n",
        "requires = [\"setuptools\", \"wheel\"]\n",
        "build-backend = \"setuptools.build_meta\"\n",
        "\n",
        "[project]\n",
        "name = \"Agent-E\"\n",
        "version = \"0.1.0\"\n",
        "description = \"Automation tool for agents to perform tasks starting with on the web browser.\"\n",
        "authors = [\n",
        "    { name = \"Deepak Akkil\", email = \"deepak.akkil@merlyn.org\" },\n",
        "    { name = \"Tamer Abuelsaad\", email = \"tea@merlyn.org\" },\n",
        "]\n",
        "license = \"MIT\"\n",
        "readme = \"README.md\"\n",
        "requires-python = \">=3.10\"\n",
        "dependencies = [\n",
        "    \"anthropic>=0.23.1\",\n",
        "    \"google-generativeai==0.5.1\",\n",
        "    \"nltk==3.8.1\",\n",
        "    \"pdfplumber==0.11.1\",\n",
        "    \"playwright==1.44.0\",\n",
        "    \"autogen~=0.7\",\n",
        "    \"autogen[anthropic]~=0.7\",\n",
        "    \"autogen[groq]~=0.7\",\n",
        "    \"pydantic==2.6.2\",\n",
        "    \"python-dotenv==1.0.0\",\n",
        "    \"tabulate==0.9.0\",\n",
        "    \"nest-asyncio==1.6.0\",\n",
        "    \"fastapi==0.111.1\",\n",
        "    \"uvicorn==0.30.3\",\n",
        "    \"python-json-logger==2.0.7\"\n",
        "]\n",
        "\n",
        "[project.optional-dependencies]\n",
        "dev = [\n",
        "    \"ruff>=0.0.79\", # Ruff as a dev dependency for linting\n",
        "    \"sphinx>=4.0.0\", # for docs generation\n",
        "    \"sphinx-rtd-theme>=1.0.0\" # for docs generation\n",
        "]\n",
        "\n",
        "[project.scripts]\n",
        "run = \"ae.main:main\"\n",
        "\n",
        "[tool.ruff]\n",
        "src = [\"ae\"]\n",
        "fix = false\n",
        "show-fixes = true\n",
        "show-source = true\n",
        "line-length = 250\n",
        "\n",
        "[tool.ruff.lint]\n",
        "select = [\n",
        "    \"B\",  # flake8-bugbear\n",
        "    \"E\",  # pycodestyle error\n",
        "    \"F\",  # pyflakes\n",
        "    \"I\",  # isort\n",
        "    \"UP\",  # pyupgrade\n",
        "    \"W\",  # pycodestyle warning\n",
        "]\n",
        "ignore = [\"E501\"]  # Ignore the \"line too long\" rule\n",
        "\n",
        "\n",
        "[tool.ruff.lint.isort]\n",
        "force-single-line = true\n",
        "order-by-type = false\n",
        "\n",
        "\"\"\")"
      ]
    },
    {
      "cell_type": "code",
      "execution_count": 5,
      "metadata": {
        "colab": {
          "base_uri": "https://localhost:8080/",
          "height": 1000
        },
        "id": "-ur6zdXrABV8",
        "outputId": "8e0c572f-ad50-43e0-ceea-2dc8c8d3edc4"
      },
      "outputs": [
        {
          "output_type": "display_data",
          "data": {
            "text/plain": [
              "\u001b[33m⚙️ Installing dependencies\u001b[0m\u001b[33m...\u001b[0m\n"
            ],
            "text/html": [
              "<pre style=\"white-space:pre;overflow-x:auto;line-height:normal;font-family:Menlo,'DejaVu Sans Mono',consolas,'Courier New',monospace\"><span style=\"color: #808000; text-decoration-color: #808000\">⚙️ Installing dependencies...</span>\n",
              "</pre>\n"
            ]
          },
          "metadata": {}
        },
        {
          "output_type": "stream",
          "name": "stdout",
          "text": [
            "\u001b[2K     \u001b[90m━━━━━━━━━━━━━━━━━━━━━━━━━━━━━━━━━━━━━━━━\u001b[0m \u001b[32m61.0/61.0 kB\u001b[0m \u001b[31m4.3 MB/s\u001b[0m eta \u001b[36m0:00:00\u001b[0m\n",
            "\u001b[2K     \u001b[90m━━━━━━━━━━━━━━━━━━━━━━━━━━━━━━━━━━━━━━━━\u001b[0m \u001b[32m84.0/84.0 kB\u001b[0m \u001b[31m7.3 MB/s\u001b[0m eta \u001b[36m0:00:00\u001b[0m\n",
            "\u001b[2K     \u001b[90m━━━━━━━━━━━━━━━━━━━━━━━━━━━━━━━━━━━━━━━━\u001b[0m \u001b[32m48.2/48.2 kB\u001b[0m \u001b[31m3.6 MB/s\u001b[0m eta \u001b[36m0:00:00\u001b[0m\n",
            "\u001b[2K   \u001b[90m━━━━━━━━━━━━━━━━━━━━━━━━━━━━━━━━━━━━━━━━\u001b[0m \u001b[32m207.9/207.9 kB\u001b[0m \u001b[31m18.2 MB/s\u001b[0m eta \u001b[36m0:00:00\u001b[0m\n",
            "\u001b[2K   \u001b[90m━━━━━━━━━━━━━━━━━━━━━━━━━━━━━━━━━━━━━━━━\u001b[0m \u001b[32m96.0/96.0 kB\u001b[0m \u001b[31m9.1 MB/s\u001b[0m eta \u001b[36m0:00:00\u001b[0m\n",
            "\u001b[2K   \u001b[90m━━━━━━━━━━━━━━━━━━━━━━━━━━━━━━━━━━━━━━━━\u001b[0m \u001b[32m164.9/164.9 kB\u001b[0m \u001b[31m15.0 MB/s\u001b[0m eta \u001b[36m0:00:00\u001b[0m\n",
            "\u001b[2K   \u001b[90m━━━━━━━━━━━━━━━━━━━━━━━━━━━━━━━━━━━━━━━━\u001b[0m \u001b[32m4.2/4.2 MB\u001b[0m \u001b[31m90.0 MB/s\u001b[0m eta \u001b[36m0:00:00\u001b[0m\n",
            "\u001b[2K   \u001b[90m━━━━━━━━━━━━━━━━━━━━━━━━━━━━━━━━━━━━━━━━\u001b[0m \u001b[32m45.5/45.5 kB\u001b[0m \u001b[31m3.9 MB/s\u001b[0m eta \u001b[36m0:00:00\u001b[0m\n",
            "\u001b[2K   \u001b[90m━━━━━━━━━━━━━━━━━━━━━━━━━━━━━━━━━━━━━━━━\u001b[0m \u001b[32m313.6/313.6 kB\u001b[0m \u001b[31m25.8 MB/s\u001b[0m eta \u001b[36m0:00:00\u001b[0m\n",
            "\u001b[2K   \u001b[90m━━━━━━━━━━━━━━━━━━━━━━━━━━━━━━━━━━━━━━━━\u001b[0m \u001b[32m147.8/147.8 kB\u001b[0m \u001b[31m14.2 MB/s\u001b[0m eta \u001b[36m0:00:00\u001b[0m\n",
            "\u001b[2K   \u001b[90m━━━━━━━━━━━━━━━━━━━━━━━━━━━━━━━━━━━━━━━━\u001b[0m \u001b[32m92.2/92.2 kB\u001b[0m \u001b[31m8.3 MB/s\u001b[0m eta \u001b[36m0:00:00\u001b[0m\n",
            "\u001b[2K   \u001b[90m━━━━━━━━━━━━━━━━━━━━━━━━━━━━━━━━━━━━━━━━\u001b[0m \u001b[32m314.2/314.2 kB\u001b[0m \u001b[31m27.4 MB/s\u001b[0m eta \u001b[36m0:00:00\u001b[0m\n",
            "\u001b[2K   \u001b[90m━━━━━━━━━━━━━━━━━━━━━━━━━━━━━━━━━━━━━━━━\u001b[0m \u001b[32m664.5/664.5 kB\u001b[0m \u001b[31m43.4 MB/s\u001b[0m eta \u001b[36m0:00:00\u001b[0m\n",
            "\u001b[2K   \u001b[90m━━━━━━━━━━━━━━━━━━━━━━━━━━━━━━━━━━━━━━━━\u001b[0m \u001b[32m158.6/158.6 kB\u001b[0m \u001b[31m14.6 MB/s\u001b[0m eta \u001b[36m0:00:00\u001b[0m\n",
            "\u001b[2K   \u001b[90m━━━━━━━━━━━━━━━━━━━━━━━━━━━━━━━━━━━━━━━━\u001b[0m \u001b[32m12.8/12.8 MB\u001b[0m \u001b[31m89.0 MB/s\u001b[0m eta \u001b[36m0:00:00\u001b[0m\n",
            "\u001b[2K   \u001b[90m━━━━━━━━━━━━━━━━━━━━━━━━━━━━━━━━━━━━━━━━\u001b[0m \u001b[32m209.8/209.8 kB\u001b[0m \u001b[31m15.9 MB/s\u001b[0m eta \u001b[36m0:00:00\u001b[0m\n",
            "\u001b[2K   \u001b[90m━━━━━━━━━━━━━━━━━━━━━━━━━━━━━━━━━━━━━━━━\u001b[0m \u001b[32m142.2/142.2 kB\u001b[0m \u001b[31m12.8 MB/s\u001b[0m eta \u001b[36m0:00:00\u001b[0m\n",
            "\u001b[2K   \u001b[90m━━━━━━━━━━━━━━━━━━━━━━━━━━━━━━━━━━━━━━━━\u001b[0m \u001b[32m221.7/221.7 kB\u001b[0m \u001b[31m18.8 MB/s\u001b[0m eta \u001b[36m0:00:00\u001b[0m\n",
            "\u001b[2K   \u001b[90m━━━━━━━━━━━━━━━━━━━━━━━━━━━━━━━━━━━━━━━━\u001b[0m \u001b[32m620.0/620.0 kB\u001b[0m \u001b[31m39.4 MB/s\u001b[0m eta \u001b[36m0:00:00\u001b[0m\n",
            "\u001b[2K   \u001b[90m━━━━━━━━━━━━━━━━━━━━━━━━━━━━━━━━━━━━━━━━\u001b[0m \u001b[32m109.6/109.6 kB\u001b[0m \u001b[31m9.7 MB/s\u001b[0m eta \u001b[36m0:00:00\u001b[0m\n",
            "\u001b[2K   \u001b[90m━━━━━━━━━━━━━━━━━━━━━━━━━━━━━━━━━━━━━━━━\u001b[0m \u001b[32m5.9/5.9 MB\u001b[0m \u001b[31m77.7 MB/s\u001b[0m eta \u001b[36m0:00:00\u001b[0m\n",
            "\u001b[2K   \u001b[90m━━━━━━━━━━━━━━━━━━━━━━━━━━━━━━━━━━━━━━━━\u001b[0m \u001b[32m459.8/459.8 kB\u001b[0m \u001b[31m32.0 MB/s\u001b[0m eta \u001b[36m0:00:00\u001b[0m\n",
            "\u001b[2K   \u001b[90m━━━━━━━━━━━━━━━━━━━━━━━━━━━━━━━━━━━━━━━━\u001b[0m \u001b[32m134.6/134.6 kB\u001b[0m \u001b[31m10.0 MB/s\u001b[0m eta \u001b[36m0:00:00\u001b[0m\n",
            "\u001b[2K   \u001b[90m━━━━━━━━━━━━━━━━━━━━━━━━━━━━━━━━━━━━━━━━\u001b[0m \u001b[32m345.6/345.6 kB\u001b[0m \u001b[31m26.3 MB/s\u001b[0m eta \u001b[36m0:00:00\u001b[0m\n",
            "\u001b[2K   \u001b[90m━━━━━━━━━━━━━━━━━━━━━━━━━━━━━━━━━━━━━━━━\u001b[0m \u001b[32m1.5/1.5 MB\u001b[0m \u001b[31m53.6 MB/s\u001b[0m eta \u001b[36m0:00:00\u001b[0m\n",
            "\u001b[2K   \u001b[90m━━━━━━━━━━━━━━━━━━━━━━━━━━━━━━━━━━━━━━━━\u001b[0m \u001b[32m18.3/18.3 MB\u001b[0m \u001b[31m84.5 MB/s\u001b[0m eta \u001b[36m0:00:00\u001b[0m\n",
            "\u001b[2K   \u001b[90m━━━━━━━━━━━━━━━━━━━━━━━━━━━━━━━━━━━━━━━━\u001b[0m \u001b[32m454.8/454.8 kB\u001b[0m \u001b[31m31.1 MB/s\u001b[0m eta \u001b[36m0:00:00\u001b[0m\n",
            "\u001b[2K   \u001b[90m━━━━━━━━━━━━━━━━━━━━━━━━━━━━━━━━━━━━━━━━\u001b[0m \u001b[32m5.6/5.6 MB\u001b[0m \u001b[31m95.5 MB/s\u001b[0m eta \u001b[36m0:00:00\u001b[0m\n",
            "\u001b[2K   \u001b[90m━━━━━━━━━━━━━━━━━━━━━━━━━━━━━━━━━━━━━━━━\u001b[0m \u001b[32m57.9/57.9 kB\u001b[0m \u001b[31m5.5 MB/s\u001b[0m eta \u001b[36m0:00:00\u001b[0m\n",
            "\u001b[2K   \u001b[90m━━━━━━━━━━━━━━━━━━━━━━━━━━━━━━━━━━━━━━━━\u001b[0m \u001b[32m37.8/37.8 MB\u001b[0m \u001b[31m14.9 MB/s\u001b[0m eta \u001b[36m0:00:00\u001b[0m\n",
            "\u001b[2K   \u001b[90m━━━━━━━━━━━━━━━━━━━━━━━━━━━━━━━━━━━━━━━━\u001b[0m \u001b[32m50.1/50.1 kB\u001b[0m \u001b[31m4.3 MB/s\u001b[0m eta \u001b[36m0:00:00\u001b[0m\n",
            "\u001b[2K   \u001b[90m━━━━━━━━━━━━━━━━━━━━━━━━━━━━━━━━━━━━━━━━\u001b[0m \u001b[32m294.6/294.6 kB\u001b[0m \u001b[31m23.0 MB/s\u001b[0m eta \u001b[36m0:00:00\u001b[0m\n",
            "\u001b[2K   \u001b[90m━━━━━━━━━━━━━━━━━━━━━━━━━━━━━━━━━━━━━━━━\u001b[0m \u001b[32m181.5/181.5 kB\u001b[0m \u001b[31m15.0 MB/s\u001b[0m eta \u001b[36m0:00:00\u001b[0m\n",
            "\u001b[2K   \u001b[90m━━━━━━━━━━━━━━━━━━━━━━━━━━━━━━━━━━━━━━━━\u001b[0m \u001b[32m497.3/497.3 kB\u001b[0m \u001b[31m34.7 MB/s\u001b[0m eta \u001b[36m0:00:00\u001b[0m\n",
            "\u001b[2K   \u001b[90m━━━━━━━━━━━━━━━━━━━━━━━━━━━━━━━━━━━━━━━━\u001b[0m \u001b[32m394.9/394.9 kB\u001b[0m \u001b[31m27.7 MB/s\u001b[0m eta \u001b[36m0:00:00\u001b[0m\n",
            "\u001b[2K   \u001b[90m━━━━━━━━━━━━━━━━━━━━━━━━━━━━━━━━━━━━━━━━\u001b[0m \u001b[32m2.2/2.2 MB\u001b[0m \u001b[31m73.1 MB/s\u001b[0m eta \u001b[36m0:00:00\u001b[0m\n",
            "\u001b[2K   \u001b[90m━━━━━━━━━━━━━━━━━━━━━━━━━━━━━━━━━━━━━━━━\u001b[0m \u001b[32m1.2/1.2 MB\u001b[0m \u001b[31m54.4 MB/s\u001b[0m eta \u001b[36m0:00:00\u001b[0m\n",
            "\u001b[2K   \u001b[90m━━━━━━━━━━━━━━━━━━━━━━━━━━━━━━━━━━━━━━━━\u001b[0m \u001b[32m107.7/107.7 kB\u001b[0m \u001b[31m10.3 MB/s\u001b[0m eta \u001b[36m0:00:00\u001b[0m\n",
            "\u001b[2K   \u001b[90m━━━━━━━━━━━━━━━━━━━━━━━━━━━━━━━━━━━━━━━━\u001b[0m \u001b[32m2.9/2.9 MB\u001b[0m \u001b[31m88.5 MB/s\u001b[0m eta \u001b[36m0:00:00\u001b[0m\n",
            "\u001b[2K   \u001b[90m━━━━━━━━━━━━━━━━━━━━━━━━━━━━━━━━━━━━━━━━\u001b[0m \u001b[32m71.9/71.9 kB\u001b[0m \u001b[31m6.7 MB/s\u001b[0m eta \u001b[36m0:00:00\u001b[0m\n",
            "\u001b[2K   \u001b[90m━━━━━━━━━━━━━━━━━━━━━━━━━━━━━━━━━━━━━━━━\u001b[0m \u001b[32m1.2/1.2 MB\u001b[0m \u001b[31m54.0 MB/s\u001b[0m eta \u001b[36m0:00:00\u001b[0m\n",
            "\u001b[2K   \u001b[90m━━━━━━━━━━━━━━━━━━━━━━━━━━━━━━━━━━━━━━━━\u001b[0m \u001b[32m44.9/44.9 kB\u001b[0m \u001b[31m3.5 MB/s\u001b[0m eta \u001b[36m0:00:00\u001b[0m\n",
            "\u001b[2K   \u001b[90m━━━━━━━━━━━━━━━━━━━━━━━━━━━━━━━━━━━━━━━━\u001b[0m \u001b[32m62.8/62.8 kB\u001b[0m \u001b[31m5.8 MB/s\u001b[0m eta \u001b[36m0:00:00\u001b[0m\n",
            "\u001b[2K   \u001b[90m━━━━━━━━━━━━━━━━━━━━━━━━━━━━━━━━━━━━━━━━\u001b[0m \u001b[32m4.0/4.0 MB\u001b[0m \u001b[31m83.3 MB/s\u001b[0m eta \u001b[36m0:00:00\u001b[0m\n",
            "\u001b[2K   \u001b[90m━━━━━━━━━━━━━━━━━━━━━━━━━━━━━━━━━━━━━━━━\u001b[0m \u001b[32m452.6/452.6 kB\u001b[0m \u001b[31m31.3 MB/s\u001b[0m eta \u001b[36m0:00:00\u001b[0m\n",
            "\u001b[2K   \u001b[90m━━━━━━━━━━━━━━━━━━━━━━━━━━━━━━━━━━━━━━━━\u001b[0m \u001b[32m168.8/168.8 kB\u001b[0m \u001b[31m13.1 MB/s\u001b[0m eta \u001b[36m0:00:00\u001b[0m\n",
            "\u001b[?25h\u001b[31mERROR: pip's dependency resolver does not currently take into account all the packages that are installed. This behaviour is the source of the following dependency conflicts.\n",
            "ipython 7.34.0 requires jedi>=0.16, which is not installed.\n",
            "google-colab 1.0.0 requires google-auth==2.38.0, but you have google-auth 2.37.0 which is incompatible.\n",
            "langchain 0.3.23 requires pydantic<3.0.0,>=2.7.4, but you have pydantic 2.6.2 which is incompatible.\n",
            "albumentations 2.0.5 requires pydantic>=2.9.2, but you have pydantic 2.6.2 which is incompatible.\n",
            "ydf 0.11.0 requires protobuf<6.0.0,>=5.29.1, but you have protobuf 4.25.5 which is incompatible.\n",
            "pydrive2 1.21.3 requires cryptography<44, but you have cryptography 44.0.0 which is incompatible.\n",
            "thinc 8.3.6 requires numpy<3.0.0,>=2.0.0, but you have numpy 1.26.4 which is incompatible.\n",
            "torch 2.6.0+cu124 requires nvidia-cublas-cu12==12.4.5.8; platform_system == \"Linux\" and platform_machine == \"x86_64\", but you have nvidia-cublas-cu12 12.5.3.2 which is incompatible.\n",
            "torch 2.6.0+cu124 requires nvidia-cuda-cupti-cu12==12.4.127; platform_system == \"Linux\" and platform_machine == \"x86_64\", but you have nvidia-cuda-cupti-cu12 12.5.82 which is incompatible.\n",
            "torch 2.6.0+cu124 requires nvidia-cuda-nvrtc-cu12==12.4.127; platform_system == \"Linux\" and platform_machine == \"x86_64\", but you have nvidia-cuda-nvrtc-cu12 12.5.82 which is incompatible.\n",
            "torch 2.6.0+cu124 requires nvidia-cuda-runtime-cu12==12.4.127; platform_system == \"Linux\" and platform_machine == \"x86_64\", but you have nvidia-cuda-runtime-cu12 12.5.82 which is incompatible.\n",
            "torch 2.6.0+cu124 requires nvidia-cudnn-cu12==9.1.0.70; platform_system == \"Linux\" and platform_machine == \"x86_64\", but you have nvidia-cudnn-cu12 9.3.0.75 which is incompatible.\n",
            "torch 2.6.0+cu124 requires nvidia-cufft-cu12==11.2.1.3; platform_system == \"Linux\" and platform_machine == \"x86_64\", but you have nvidia-cufft-cu12 11.2.3.61 which is incompatible.\n",
            "torch 2.6.0+cu124 requires nvidia-curand-cu12==10.3.5.147; platform_system == \"Linux\" and platform_machine == \"x86_64\", but you have nvidia-curand-cu12 10.3.6.82 which is incompatible.\n",
            "torch 2.6.0+cu124 requires nvidia-cusolver-cu12==11.6.1.9; platform_system == \"Linux\" and platform_machine == \"x86_64\", but you have nvidia-cusolver-cu12 11.6.3.83 which is incompatible.\n",
            "torch 2.6.0+cu124 requires nvidia-cusparse-cu12==12.3.1.170; platform_system == \"Linux\" and platform_machine == \"x86_64\", but you have nvidia-cusparse-cu12 12.5.1.3 which is incompatible.\n",
            "torch 2.6.0+cu124 requires nvidia-nvjitlink-cu12==12.4.127; platform_system == \"Linux\" and platform_machine == \"x86_64\", but you have nvidia-nvjitlink-cu12 12.5.82 which is incompatible.\n",
            "pyopenssl 24.2.1 requires cryptography<44,>=41.0.5, but you have cryptography 44.0.0 which is incompatible.\n",
            "textblob 0.19.0 requires nltk>=3.9, but you have nltk 3.8.1 which is incompatible.\u001b[0m\u001b[31m\n",
            "\u001b[2K   \u001b[90m━━━━━━━━━━━━━━━━━━━━━━━━━━━━━━━━━━━━━━━━\u001b[0m \u001b[32m243.2/243.2 kB\u001b[0m \u001b[31m15.0 MB/s\u001b[0m eta \u001b[36m0:00:00\u001b[0m\n",
            "\u001b[?25h\u001b[31mERROR: pip's dependency resolver does not currently take into account all the packages that are installed. This behaviour is the source of the following dependency conflicts.\n",
            "bigframes 1.42.0 requires rich<14,>=12.4.4, but you have rich 14.0.0 which is incompatible.\u001b[0m\u001b[31m\n",
            "\u001b[0m  Installing build dependencies ... \u001b[?25l\u001b[?25hdone\n",
            "  Checking if build backend supports build_editable ... \u001b[?25l\u001b[?25hdone\n",
            "  Getting requirements to build editable ... \u001b[?25l\u001b[?25hdone\n",
            "  Preparing editable metadata (pyproject.toml) ... \u001b[?25l\u001b[?25hdone\n",
            "  Building editable for Agent-E (pyproject.toml) ... \u001b[?25l\u001b[?25hdone\n"
          ]
        },
        {
          "output_type": "display_data",
          "data": {
            "text/plain": [
              "\u001b[1;32m✅ Environment setup complete!\u001b[0m\n"
            ],
            "text/html": [
              "<pre style=\"white-space:pre;overflow-x:auto;line-height:normal;font-family:Menlo,'DejaVu Sans Mono',consolas,'Courier New',monospace\"><span style=\"color: #008000; text-decoration-color: #008000; font-weight: bold\">✅ Environment setup complete!</span>\n",
              "</pre>\n"
            ]
          },
          "metadata": {}
        }
      ],
      "source": [
        "console.print(\"⚙️ Installing dependencies...\", style=\"yellow\")\n",
        "!pip install -q -r /content/drive/MyDrive/Agent-E-master_xyz/requirements.txt\n",
        "!pip install -q -r /content/impress.txt\n",
        "!pip install -q -U rich\n",
        "%pip install -q -e /content/drive/MyDrive/Agent-E-master_xyz\n",
        "\n",
        "console.print(\"✅ Environment setup complete!\", style=\"bold green\")"
      ]
    },
    {
      "cell_type": "code",
      "execution_count": 6,
      "metadata": {
        "colab": {
          "base_uri": "https://localhost:8080/",
          "height": 103
        },
        "id": "OvcCfP5nApMj",
        "outputId": "893d15ae-a18e-409a-8776-340aae9c1bc3"
      },
      "outputs": [
        {
          "output_type": "display_data",
          "data": {
            "text/plain": [
              "\u001b[92m──────────────────────────────────────────────── \u001b[0m\u001b[1;36mAPI Configuration\u001b[0m\u001b[92m ────────────────────────────────────────────────\u001b[0m\n"
            ],
            "text/html": [
              "<pre style=\"white-space:pre;overflow-x:auto;line-height:normal;font-family:Menlo,'DejaVu Sans Mono',consolas,'Courier New',monospace\"><span style=\"color: #00ff00; text-decoration-color: #00ff00\">──────────────────────────────────────────────── </span><span style=\"color: #008080; text-decoration-color: #008080; font-weight: bold\">API Configuration</span><span style=\"color: #00ff00; text-decoration-color: #00ff00\"> ────────────────────────────────────────────────</span>\n",
              "</pre>\n"
            ]
          },
          "metadata": {}
        },
        {
          "output_type": "display_data",
          "data": {
            "text/plain": [
              "\u001b[33m🔑 Please enter your RapidAPI API Key \u001b[0m\u001b[1;33m(\u001b[0m\u001b[33mfor LLM and job search\u001b[0m\u001b[1;33m)\u001b[0m\u001b[33m:\u001b[0m\n"
            ],
            "text/html": [
              "<pre style=\"white-space:pre;overflow-x:auto;line-height:normal;font-family:Menlo,'DejaVu Sans Mono',consolas,'Courier New',monospace\"><span style=\"color: #808000; text-decoration-color: #808000\">🔑 Please enter your RapidAPI API Key </span><span style=\"color: #808000; text-decoration-color: #808000; font-weight: bold\">(</span><span style=\"color: #808000; text-decoration-color: #808000\">for LLM and job search</span><span style=\"color: #808000; text-decoration-color: #808000; font-weight: bold\">)</span><span style=\"color: #808000; text-decoration-color: #808000\">:</span>\n",
              "</pre>\n"
            ]
          },
          "metadata": {}
        },
        {
          "name": "stdout",
          "output_type": "stream",
          "text": [
            "RapidAPI Key: be5738a9e9msh08bfcd8fad98672p136d4bjsn7df8eb80c816\n"
          ]
        },
        {
          "output_type": "display_data",
          "data": {
            "text/plain": [
              "\u001b[32m✅ API key configured.\u001b[0m\n"
            ],
            "text/html": [
              "<pre style=\"white-space:pre;overflow-x:auto;line-height:normal;font-family:Menlo,'DejaVu Sans Mono',consolas,'Courier New',monospace\"><span style=\"color: #008000; text-decoration-color: #008000\">✅ API key configured.</span>\n",
              "</pre>\n"
            ]
          },
          "metadata": {}
        }
      ],
      "source": [
        "from getpass import getpass\n",
        "console.rule(\"[bold cyan]API Configuration\")\n",
        "console.print(\"🔑 Please enter your RapidAPI API Key (for LLM and job search):\", style=\"yellow\")\n",
        "api_key = input(\"RapidAPI Key: \")\n",
        "import os\n",
        "os.environ[\"AUTOGEN_MODEL_API_KEY\"] = api_key\n",
        "os.environ[\"AUTOGEN_MODEL_NAME\"] = \"mixtral8x7b\"\n",
        "console.print(\"✅ API key configured.\", style=\"green\")"
      ]
    },
    {
      "cell_type": "code",
      "execution_count": null,
      "metadata": {
        "id": "-_upbtVQBI8C"
      },
      "outputs": [],
      "source": []
    },
    {
      "cell_type": "markdown",
      "metadata": {
        "id": "GsnuAdqcB2RF"
      },
      "source": [
        "# modules for frontend"
      ]
    },
    {
      "cell_type": "code",
      "execution_count": 8,
      "metadata": {
        "colab": {
          "base_uri": "https://localhost:8080/",
          "height": 324
        },
        "id": "bQcb1WLfCEhA",
        "outputId": "a4ea91f1-ef92-43e7-ab21-04f00aefcd56"
      },
      "outputs": [
        {
          "output_type": "display_data",
          "data": {
            "text/plain": [
              "\u001b[92m──────────────────────────────────────────────── \u001b[0m\u001b[1;36mResume Processing\u001b[0m\u001b[92m ────────────────────────────────────────────────\u001b[0m\n"
            ],
            "text/html": [
              "<pre style=\"white-space:pre;overflow-x:auto;line-height:normal;font-family:Menlo,'DejaVu Sans Mono',consolas,'Courier New',monospace\"><span style=\"color: #00ff00; text-decoration-color: #00ff00\">──────────────────────────────────────────────── </span><span style=\"color: #008080; text-decoration-color: #008080; font-weight: bold\">Resume Processing</span><span style=\"color: #00ff00; text-decoration-color: #00ff00\"> ────────────────────────────────────────────────</span>\n",
              "</pre>\n"
            ]
          },
          "metadata": {}
        },
        {
          "output_type": "display_data",
          "data": {
            "text/plain": [
              "\u001b[33m📂 Please upload your resume PDF\u001b[0m\n"
            ],
            "text/html": [
              "<pre style=\"white-space:pre;overflow-x:auto;line-height:normal;font-family:Menlo,'DejaVu Sans Mono',consolas,'Courier New',monospace\"><span style=\"color: #808000; text-decoration-color: #808000\">📂 Please upload your resume PDF</span>\n",
              "</pre>\n"
            ]
          },
          "metadata": {}
        },
        {
          "output_type": "display_data",
          "data": {
            "text/plain": [
              "<IPython.core.display.HTML object>"
            ],
            "text/html": [
              "\n",
              "     <input type=\"file\" id=\"files-bd4854f4-28de-42bd-a860-81c64dcf50f5\" name=\"files[]\" multiple disabled\n",
              "        style=\"border:none\" />\n",
              "     <output id=\"result-bd4854f4-28de-42bd-a860-81c64dcf50f5\">\n",
              "      Upload widget is only available when the cell has been executed in the\n",
              "      current browser session. Please rerun this cell to enable.\n",
              "      </output>\n",
              "      <script>// Copyright 2017 Google LLC\n",
              "//\n",
              "// Licensed under the Apache License, Version 2.0 (the \"License\");\n",
              "// you may not use this file except in compliance with the License.\n",
              "// You may obtain a copy of the License at\n",
              "//\n",
              "//      http://www.apache.org/licenses/LICENSE-2.0\n",
              "//\n",
              "// Unless required by applicable law or agreed to in writing, software\n",
              "// distributed under the License is distributed on an \"AS IS\" BASIS,\n",
              "// WITHOUT WARRANTIES OR CONDITIONS OF ANY KIND, either express or implied.\n",
              "// See the License for the specific language governing permissions and\n",
              "// limitations under the License.\n",
              "\n",
              "/**\n",
              " * @fileoverview Helpers for google.colab Python module.\n",
              " */\n",
              "(function(scope) {\n",
              "function span(text, styleAttributes = {}) {\n",
              "  const element = document.createElement('span');\n",
              "  element.textContent = text;\n",
              "  for (const key of Object.keys(styleAttributes)) {\n",
              "    element.style[key] = styleAttributes[key];\n",
              "  }\n",
              "  return element;\n",
              "}\n",
              "\n",
              "// Max number of bytes which will be uploaded at a time.\n",
              "const MAX_PAYLOAD_SIZE = 100 * 1024;\n",
              "\n",
              "function _uploadFiles(inputId, outputId) {\n",
              "  const steps = uploadFilesStep(inputId, outputId);\n",
              "  const outputElement = document.getElementById(outputId);\n",
              "  // Cache steps on the outputElement to make it available for the next call\n",
              "  // to uploadFilesContinue from Python.\n",
              "  outputElement.steps = steps;\n",
              "\n",
              "  return _uploadFilesContinue(outputId);\n",
              "}\n",
              "\n",
              "// This is roughly an async generator (not supported in the browser yet),\n",
              "// where there are multiple asynchronous steps and the Python side is going\n",
              "// to poll for completion of each step.\n",
              "// This uses a Promise to block the python side on completion of each step,\n",
              "// then passes the result of the previous step as the input to the next step.\n",
              "function _uploadFilesContinue(outputId) {\n",
              "  const outputElement = document.getElementById(outputId);\n",
              "  const steps = outputElement.steps;\n",
              "\n",
              "  const next = steps.next(outputElement.lastPromiseValue);\n",
              "  return Promise.resolve(next.value.promise).then((value) => {\n",
              "    // Cache the last promise value to make it available to the next\n",
              "    // step of the generator.\n",
              "    outputElement.lastPromiseValue = value;\n",
              "    return next.value.response;\n",
              "  });\n",
              "}\n",
              "\n",
              "/**\n",
              " * Generator function which is called between each async step of the upload\n",
              " * process.\n",
              " * @param {string} inputId Element ID of the input file picker element.\n",
              " * @param {string} outputId Element ID of the output display.\n",
              " * @return {!Iterable<!Object>} Iterable of next steps.\n",
              " */\n",
              "function* uploadFilesStep(inputId, outputId) {\n",
              "  const inputElement = document.getElementById(inputId);\n",
              "  inputElement.disabled = false;\n",
              "\n",
              "  const outputElement = document.getElementById(outputId);\n",
              "  outputElement.innerHTML = '';\n",
              "\n",
              "  const pickedPromise = new Promise((resolve) => {\n",
              "    inputElement.addEventListener('change', (e) => {\n",
              "      resolve(e.target.files);\n",
              "    });\n",
              "  });\n",
              "\n",
              "  const cancel = document.createElement('button');\n",
              "  inputElement.parentElement.appendChild(cancel);\n",
              "  cancel.textContent = 'Cancel upload';\n",
              "  const cancelPromise = new Promise((resolve) => {\n",
              "    cancel.onclick = () => {\n",
              "      resolve(null);\n",
              "    };\n",
              "  });\n",
              "\n",
              "  // Wait for the user to pick the files.\n",
              "  const files = yield {\n",
              "    promise: Promise.race([pickedPromise, cancelPromise]),\n",
              "    response: {\n",
              "      action: 'starting',\n",
              "    }\n",
              "  };\n",
              "\n",
              "  cancel.remove();\n",
              "\n",
              "  // Disable the input element since further picks are not allowed.\n",
              "  inputElement.disabled = true;\n",
              "\n",
              "  if (!files) {\n",
              "    return {\n",
              "      response: {\n",
              "        action: 'complete',\n",
              "      }\n",
              "    };\n",
              "  }\n",
              "\n",
              "  for (const file of files) {\n",
              "    const li = document.createElement('li');\n",
              "    li.append(span(file.name, {fontWeight: 'bold'}));\n",
              "    li.append(span(\n",
              "        `(${file.type || 'n/a'}) - ${file.size} bytes, ` +\n",
              "        `last modified: ${\n",
              "            file.lastModifiedDate ? file.lastModifiedDate.toLocaleDateString() :\n",
              "                                    'n/a'} - `));\n",
              "    const percent = span('0% done');\n",
              "    li.appendChild(percent);\n",
              "\n",
              "    outputElement.appendChild(li);\n",
              "\n",
              "    const fileDataPromise = new Promise((resolve) => {\n",
              "      const reader = new FileReader();\n",
              "      reader.onload = (e) => {\n",
              "        resolve(e.target.result);\n",
              "      };\n",
              "      reader.readAsArrayBuffer(file);\n",
              "    });\n",
              "    // Wait for the data to be ready.\n",
              "    let fileData = yield {\n",
              "      promise: fileDataPromise,\n",
              "      response: {\n",
              "        action: 'continue',\n",
              "      }\n",
              "    };\n",
              "\n",
              "    // Use a chunked sending to avoid message size limits. See b/62115660.\n",
              "    let position = 0;\n",
              "    do {\n",
              "      const length = Math.min(fileData.byteLength - position, MAX_PAYLOAD_SIZE);\n",
              "      const chunk = new Uint8Array(fileData, position, length);\n",
              "      position += length;\n",
              "\n",
              "      const base64 = btoa(String.fromCharCode.apply(null, chunk));\n",
              "      yield {\n",
              "        response: {\n",
              "          action: 'append',\n",
              "          file: file.name,\n",
              "          data: base64,\n",
              "        },\n",
              "      };\n",
              "\n",
              "      let percentDone = fileData.byteLength === 0 ?\n",
              "          100 :\n",
              "          Math.round((position / fileData.byteLength) * 100);\n",
              "      percent.textContent = `${percentDone}% done`;\n",
              "\n",
              "    } while (position < fileData.byteLength);\n",
              "  }\n",
              "\n",
              "  // All done.\n",
              "  yield {\n",
              "    response: {\n",
              "      action: 'complete',\n",
              "    }\n",
              "  };\n",
              "}\n",
              "\n",
              "scope.google = scope.google || {};\n",
              "scope.google.colab = scope.google.colab || {};\n",
              "scope.google.colab._files = {\n",
              "  _uploadFiles,\n",
              "  _uploadFilesContinue,\n",
              "};\n",
              "})(self);\n",
              "</script> "
            ]
          },
          "metadata": {}
        },
        {
          "output_type": "stream",
          "name": "stdout",
          "text": [
            "Saving Yash CV 8.pdf to Yash CV 8.pdf\n"
          ]
        },
        {
          "output_type": "display_data",
          "data": {
            "text/plain": [
              "\u001b[32m✅ Uploaded resume: Yash CV \u001b[0m\u001b[1;36m8.\u001b[0m\u001b[32mpdf\u001b[0m\n"
            ],
            "text/html": [
              "<pre style=\"white-space:pre;overflow-x:auto;line-height:normal;font-family:Menlo,'DejaVu Sans Mono',consolas,'Courier New',monospace\"><span style=\"color: #008000; text-decoration-color: #008000\">✅ Uploaded resume: Yash CV </span><span style=\"color: #008080; text-decoration-color: #008080; font-weight: bold\">8.</span><span style=\"color: #008000; text-decoration-color: #008000\">pdf</span>\n",
              "</pre>\n"
            ]
          },
          "metadata": {}
        },
        {
          "output_type": "display_data",
          "data": {
            "text/plain": [
              "\u001b[33m📄 Reading resume\u001b[0m\u001b[33m...\u001b[0m\n"
            ],
            "text/html": [
              "<pre style=\"white-space:pre;overflow-x:auto;line-height:normal;font-family:Menlo,'DejaVu Sans Mono',consolas,'Courier New',monospace\"><span style=\"color: #808000; text-decoration-color: #808000\">📄 Reading resume...</span>\n",
              "</pre>\n"
            ]
          },
          "metadata": {}
        },
        {
          "output_type": "display_data",
          "data": {
            "text/plain": [
              "\u001b[33m📑 Resume text length: \u001b[0m\u001b[1;36m1806\u001b[0m\u001b[33m characters\u001b[0m\n"
            ],
            "text/html": [
              "<pre style=\"white-space:pre;overflow-x:auto;line-height:normal;font-family:Menlo,'DejaVu Sans Mono',consolas,'Courier New',monospace\"><span style=\"color: #808000; text-decoration-color: #808000\">📑 Resume text length: </span><span style=\"color: #008080; text-decoration-color: #008080; font-weight: bold\">1806</span><span style=\"color: #808000; text-decoration-color: #808000\"> characters</span>\n",
              "</pre>\n"
            ]
          },
          "metadata": {}
        },
        {
          "output_type": "display_data",
          "data": {
            "text/plain": [
              "\u001b[2mYash Agrawal\u001b[0m\n",
              "\u001b[2mimg_2017061@iiitm.ac.in|+\u001b[0m\u001b[1;2;36m91\u001b[0m\u001b[2m \u001b[0m\u001b[1;2;36m8218469891\u001b[0m\u001b[2m|\u001b[0m\u001b[2;4;94mhttps://www.linkedin.com/in/yash-agrawal-18486a145\u001b[0m\n",
              "\u001b[2mMotivatedprofessionalwitha passionfor developingrobustwebapplicationsandadvancingin\u001b[0m\n",
              "\u001b[2mDataScience.Located inBangalore \u001b[0m\u001b[1;2m(\u001b[0m\u001b[2mIndia\u001b[0m\u001b[1;2m)\u001b[0m\u001b[2m andaspiringto contributeinnovative solutionsina\u001b[0m\n",
              "\u001b[2mdynamicenvironment.\u001b[0m\n",
              "\u001b[2mEDUCATION: IIIT Gwalior \u001b[0m\u001b[1;2m[\u001b[0m\u001b[1;2;36m2017\u001b[0m\u001b[2m - \u001b[0m\u001b[1;2;36m2022\u001b[0m\u001b[1;2m]\u001b[0m\n",
              "\u001b[2mPost Graduation: IntegratedDualDegree \u001b[0m\u001b[1;2m(\u001b[0m\u001b[2mB.Tech + MBA\u001b[0m\u001b[1;2m)\u001b[0m\u001b[2minIT\u001b[0m\n",
              "\u001b[2mEXPERIENCE: IVTREE, \u001b[0m\u001b[1;2;35mBangalore\u001b[0m\u001b[1;2m(\u001b[0m\u001b[1;2;36m05\u001b[0m\u001b[2m/\u001b[0m\u001b[1;2;36m2023\u001b[0m\u001b[2m- \u001b[0m\u001b[1;2;36m01\u001b[0m\u001b[2m/\u001b[0m\u001b[1;2;36m2024\u001b[0m\u001b[1;2m)\u001b[0m\n",
              "\u001b[2mDeveloping anE-CommerceWeb Applicationusing Python andFastAPIa\u001b[0m\u001b[2;33m...\u001b[0m\n"
            ],
            "text/html": [
              "<pre style=\"white-space:pre;overflow-x:auto;line-height:normal;font-family:Menlo,'DejaVu Sans Mono',consolas,'Courier New',monospace\"><span style=\"color: #7f7f7f; text-decoration-color: #7f7f7f\">Yash Agrawal</span>\n",
              "<span style=\"color: #7f7f7f; text-decoration-color: #7f7f7f\">img_2017061@iiitm.ac.in|+</span><span style=\"color: #7fbfbf; text-decoration-color: #7fbfbf; font-weight: bold\">91</span><span style=\"color: #7f7f7f; text-decoration-color: #7f7f7f\"> </span><span style=\"color: #7fbfbf; text-decoration-color: #7fbfbf; font-weight: bold\">8218469891</span><span style=\"color: #7f7f7f; text-decoration-color: #7f7f7f\">|</span><span style=\"color: #7f7fff; text-decoration-color: #7f7fff; text-decoration: underline\">https://www.linkedin.com/in/yash-agrawal-18486a145</span>\n",
              "<span style=\"color: #7f7f7f; text-decoration-color: #7f7f7f\">Motivatedprofessionalwitha passionfor developingrobustwebapplicationsandadvancingin</span>\n",
              "<span style=\"color: #7f7f7f; text-decoration-color: #7f7f7f\">DataScience.Located inBangalore </span><span style=\"color: #7f7f7f; text-decoration-color: #7f7f7f; font-weight: bold\">(</span><span style=\"color: #7f7f7f; text-decoration-color: #7f7f7f\">India</span><span style=\"color: #7f7f7f; text-decoration-color: #7f7f7f; font-weight: bold\">)</span><span style=\"color: #7f7f7f; text-decoration-color: #7f7f7f\"> andaspiringto contributeinnovative solutionsina</span>\n",
              "<span style=\"color: #7f7f7f; text-decoration-color: #7f7f7f\">dynamicenvironment.</span>\n",
              "<span style=\"color: #7f7f7f; text-decoration-color: #7f7f7f\">EDUCATION: IIIT Gwalior </span><span style=\"color: #7f7f7f; text-decoration-color: #7f7f7f; font-weight: bold\">[</span><span style=\"color: #7fbfbf; text-decoration-color: #7fbfbf; font-weight: bold\">2017</span><span style=\"color: #7f7f7f; text-decoration-color: #7f7f7f\"> - </span><span style=\"color: #7fbfbf; text-decoration-color: #7fbfbf; font-weight: bold\">2022</span><span style=\"color: #7f7f7f; text-decoration-color: #7f7f7f; font-weight: bold\">]</span>\n",
              "<span style=\"color: #7f7f7f; text-decoration-color: #7f7f7f\">Post Graduation: IntegratedDualDegree </span><span style=\"color: #7f7f7f; text-decoration-color: #7f7f7f; font-weight: bold\">(</span><span style=\"color: #7f7f7f; text-decoration-color: #7f7f7f\">B.Tech + MBA</span><span style=\"color: #7f7f7f; text-decoration-color: #7f7f7f; font-weight: bold\">)</span><span style=\"color: #7f7f7f; text-decoration-color: #7f7f7f\">inIT</span>\n",
              "<span style=\"color: #7f7f7f; text-decoration-color: #7f7f7f\">EXPERIENCE: IVTREE, </span><span style=\"color: #bf7fbf; text-decoration-color: #bf7fbf; font-weight: bold\">Bangalore</span><span style=\"color: #7f7f7f; text-decoration-color: #7f7f7f; font-weight: bold\">(</span><span style=\"color: #7fbfbf; text-decoration-color: #7fbfbf; font-weight: bold\">05</span><span style=\"color: #7f7f7f; text-decoration-color: #7f7f7f\">/</span><span style=\"color: #7fbfbf; text-decoration-color: #7fbfbf; font-weight: bold\">2023</span><span style=\"color: #7f7f7f; text-decoration-color: #7f7f7f\">- </span><span style=\"color: #7fbfbf; text-decoration-color: #7fbfbf; font-weight: bold\">01</span><span style=\"color: #7f7f7f; text-decoration-color: #7f7f7f\">/</span><span style=\"color: #7fbfbf; text-decoration-color: #7fbfbf; font-weight: bold\">2024</span><span style=\"color: #7f7f7f; text-decoration-color: #7f7f7f; font-weight: bold\">)</span>\n",
              "<span style=\"color: #7f7f7f; text-decoration-color: #7f7f7f\">Developing anE-CommerceWeb Applicationusing Python andFastAPIa</span><span style=\"color: #bfbf7f; text-decoration-color: #bfbf7f\">...</span>\n",
              "</pre>\n"
            ]
          },
          "metadata": {}
        }
      ],
      "source": [
        "import pdfplumber\n",
        "from google.colab import files\n",
        "console.rule(\"[bold cyan]Resume Processing\")\n",
        "console.print(\"📂 Please upload your resume PDF\", style=\"yellow\")\n",
        "uploaded = files.upload()\n",
        "if uploaded:\n",
        "    resume_path = next(iter(uploaded))\n",
        "    console.print(f\"✅ Uploaded resume: {resume_path}\", style=\"green\")\n",
        "else:\n",
        "    raise Exception(\"No file uploaded. Please upload a resume PDF to continue.\")\n",
        "console.print(\"📄 Reading resume...\", style=\"yellow\")\n",
        "with pdfplumber.open(resume_path) as pdf:\n",
        "    resume_text = \"\"\n",
        "    for page in pdf.pages:\n",
        "        text = page.extract_text()\n",
        "        if text:\n",
        "            resume_text += text + \"\\n\"\n",
        "resume_text = resume_text.strip()\n",
        "console.print(f\"📑 Resume text length: {len(resume_text)} characters\", style=\"yellow\")\n",
        "console.print(resume_text[:500] + (\"...\" if len(resume_text)>500 else \"\"), style=\"dim\")"
      ]
    },
    {
      "cell_type": "code",
      "execution_count": 9,
      "metadata": {
        "colab": {
          "base_uri": "https://localhost:8080/",
          "height": 184
        },
        "id": "_vWftcK0CIR3",
        "outputId": "669545d8-b6f8-4860-f64b-a46bd01ed44e"
      },
      "outputs": [
        {
          "output_type": "display_data",
          "data": {
            "text/plain": [
              "\u001b[92m─────────────────────────────────────────────────── \u001b[0m\u001b[1;36mJob Search\u001b[0m\u001b[92m ────────────────────────────────────────────────────\u001b[0m\n"
            ],
            "text/html": [
              "<pre style=\"white-space:pre;overflow-x:auto;line-height:normal;font-family:Menlo,'DejaVu Sans Mono',consolas,'Courier New',monospace\"><span style=\"color: #00ff00; text-decoration-color: #00ff00\">─────────────────────────────────────────────────── </span><span style=\"color: #008080; text-decoration-color: #008080; font-weight: bold\">Job Search</span><span style=\"color: #00ff00; text-decoration-color: #00ff00\"> ────────────────────────────────────────────────────</span>\n",
              "</pre>\n"
            ]
          },
          "metadata": {}
        },
        {
          "output_type": "display_data",
          "data": {
            "text/plain": [
              "\u001b[33m🔍 Searching for jobs: \u001b[0m\u001b[36mNode.js developer in New York\u001b[0m\n"
            ],
            "text/html": [
              "<pre style=\"white-space:pre;overflow-x:auto;line-height:normal;font-family:Menlo,'DejaVu Sans Mono',consolas,'Courier New',monospace\"><span style=\"color: #808000; text-decoration-color: #808000\">🔍 Searching for jobs: </span><span style=\"color: #008080; text-decoration-color: #008080\">Node.js developer in New York</span>\n",
              "</pre>\n"
            ]
          },
          "metadata": {}
        },
        {
          "output_type": "display_data",
          "data": {
            "text/plain": [
              "\u001b[1m🔎 Found \u001b[0m\u001b[1;32m10\u001b[0m\u001b[1m jobs for query: \u001b[0m\u001b[1;36mNode.js developer in New York\u001b[0m\n"
            ],
            "text/html": [
              "<pre style=\"white-space:pre;overflow-x:auto;line-height:normal;font-family:Menlo,'DejaVu Sans Mono',consolas,'Courier New',monospace\"><span style=\"font-weight: bold\">🔎 Found </span><span style=\"color: #008000; text-decoration-color: #008000; font-weight: bold\">10</span><span style=\"font-weight: bold\"> jobs for query: </span><span style=\"color: #008080; text-decoration-color: #008080; font-weight: bold\">Node.js developer in New York</span>\n",
              "</pre>\n"
            ]
          },
          "metadata": {}
        },
        {
          "output_type": "display_data",
          "data": {
            "text/plain": [
              "\u001b[1;36m1\u001b[0m. \u001b[1mNode Js Backend Developer\u001b[0m @ \u001b[34mJobs via Dice\u001b[0m\n"
            ],
            "text/html": [
              "<pre style=\"white-space:pre;overflow-x:auto;line-height:normal;font-family:Menlo,'DejaVu Sans Mono',consolas,'Courier New',monospace\"><span style=\"color: #008080; text-decoration-color: #008080; font-weight: bold\">1</span>. <span style=\"font-weight: bold\">Node Js Backend Developer</span> @ <span style=\"color: #000080; text-decoration-color: #000080\">Jobs via Dice</span>\n",
              "</pre>\n"
            ]
          },
          "metadata": {}
        },
        {
          "output_type": "display_data",
          "data": {
            "text/plain": [
              "\u001b[1;36m2\u001b[0m. \u001b[1mP2P Node.js Engineer \u001b[0m\u001b[1m(\u001b[0m\u001b[1;36m100\u001b[0m\u001b[1m% Remote - US\u001b[0m\u001b[1m)\u001b[0m @ \u001b[34mHolepunch\u001b[0m\n"
            ],
            "text/html": [
              "<pre style=\"white-space:pre;overflow-x:auto;line-height:normal;font-family:Menlo,'DejaVu Sans Mono',consolas,'Courier New',monospace\"><span style=\"color: #008080; text-decoration-color: #008080; font-weight: bold\">2</span>. <span style=\"font-weight: bold\">P2P Node.js Engineer (</span><span style=\"color: #008080; text-decoration-color: #008080; font-weight: bold\">100</span><span style=\"font-weight: bold\">% Remote - US)</span> @ <span style=\"color: #000080; text-decoration-color: #000080\">Holepunch</span>\n",
              "</pre>\n"
            ]
          },
          "metadata": {}
        },
        {
          "output_type": "display_data",
          "data": {
            "text/plain": [
              "\u001b[1;36m3\u001b[0m. \u001b[1mPrincipal Node.js Software Engineer\u001b[0m @ \u001b[34mADP\u001b[0m\n"
            ],
            "text/html": [
              "<pre style=\"white-space:pre;overflow-x:auto;line-height:normal;font-family:Menlo,'DejaVu Sans Mono',consolas,'Courier New',monospace\"><span style=\"color: #008080; text-decoration-color: #008080; font-weight: bold\">3</span>. <span style=\"font-weight: bold\">Principal Node.js Software Engineer</span> @ <span style=\"color: #000080; text-decoration-color: #000080\">ADP</span>\n",
              "</pre>\n"
            ]
          },
          "metadata": {}
        },
        {
          "output_type": "display_data",
          "data": {
            "text/plain": [
              "\u001b[1;36m4\u001b[0m. \u001b[1mJavaScript \u001b[0m\u001b[1m(\u001b[0m\u001b[1mNode JS\u001b[0m\u001b[1m)\u001b[0m\u001b[1m Developer\u001b[0m @ \u001b[34mKeylent, Inc.\u001b[0m\n"
            ],
            "text/html": [
              "<pre style=\"white-space:pre;overflow-x:auto;line-height:normal;font-family:Menlo,'DejaVu Sans Mono',consolas,'Courier New',monospace\"><span style=\"color: #008080; text-decoration-color: #008080; font-weight: bold\">4</span>. <span style=\"font-weight: bold\">JavaScript (Node JS) Developer</span> @ <span style=\"color: #000080; text-decoration-color: #000080\">Keylent, Inc.</span>\n",
              "</pre>\n"
            ]
          },
          "metadata": {}
        },
        {
          "output_type": "display_data",
          "data": {
            "text/plain": [
              "\u001b[1;36m5\u001b[0m. \u001b[1mNodeJS Developer \u001b[0m\u001b[1m(\u001b[0m\u001b[1mBackend\u001b[0m\u001b[1m)\u001b[0m\u001b[1m @ New York City\u001b[0m @ \u001b[34mSumeru\u001b[0m\n"
            ],
            "text/html": [
              "<pre style=\"white-space:pre;overflow-x:auto;line-height:normal;font-family:Menlo,'DejaVu Sans Mono',consolas,'Courier New',monospace\"><span style=\"color: #008080; text-decoration-color: #008080; font-weight: bold\">5</span>. <span style=\"font-weight: bold\">NodeJS Developer (Backend) @ New York City</span> @ <span style=\"color: #000080; text-decoration-color: #000080\">Sumeru</span>\n",
              "</pre>\n"
            ]
          },
          "metadata": {}
        },
        {
          "output_type": "display_data",
          "data": {
            "text/plain": [
              "\u001b[33m📌 Using the first result: \u001b[0m\u001b[36mNode Js Backend Developer at Jobs via Dice\u001b[0m\n"
            ],
            "text/html": [
              "<pre style=\"white-space:pre;overflow-x:auto;line-height:normal;font-family:Menlo,'DejaVu Sans Mono',consolas,'Courier New',monospace\"><span style=\"color: #808000; text-decoration-color: #808000\">📌 Using the first result: </span><span style=\"color: #008080; text-decoration-color: #008080\">Node Js Backend Developer at Jobs via Dice</span>\n",
              "</pre>\n"
            ]
          },
          "metadata": {}
        }
      ],
      "source": [
        "import requests, os\n",
        "console.rule(\"[bold cyan]Job Search\")\n",
        "job_query = \"Node.js developer in New York\"\n",
        "console.print(f\"🔍 Searching for jobs: [cyan]{job_query}[/cyan]\", style=\"yellow\")\n",
        "api_url = \"https://jsearch.p.rapidapi.com/search\"\n",
        "query_params = {\"query\": job_query, \"num_pages\": 1}\n",
        "headers = {\n",
        "    \"X-RapidAPI-Key\": os.environ.get(\"JOB_API_KEY\", os.environ.get(\"AUTOGEN_MODEL_API_KEY\")),\n",
        "    \"X-RapidAPI-Host\": \"jsearch.p.rapidapi.com\"\n",
        "}\n",
        "response = requests.get(api_url, params=query_params, headers=headers)\n",
        "if response.status_code != 200:\n",
        "    console.print(f\"[red]Job API request failed: {response.status_code} - {response.text}[/red]\")\n",
        "else:\n",
        "    jobs_data = response.json().get(\"data\", [])\n",
        "    console.print(f\"🔎 Found [green]{len(jobs_data)}[/green] jobs for query: [cyan]{job_query}[/cyan]\", style=\"bold\")\n",
        "    for i, job in enumerate(jobs_data[:5], start=1):\n",
        "        title = job.get(\"job_title\", \"\")\n",
        "        company = job.get(\"employer_name\", \"\")\n",
        "        console.print(f\"{i}. [bold]{title}[/bold] @ [blue]{company}[/blue]\")\n",
        "    if not jobs_data:\n",
        "        console.print(\"[red]No jobs found for the query.[/red]\")\n",
        "    else:\n",
        "        chosen_job = jobs_data[0]\n",
        "        job_title = chosen_job.get(\"job_title\", \"\")\n",
        "        company = chosen_job.get(\"employer_name\", \"\")\n",
        "        job_desc = chosen_job.get(\"job_description\", \"\")\n",
        "        console.print(f\"📌 Using the first result: [cyan]{job_title} at {company}[/cyan]\", style=\"yellow\")"
      ]
    },
    {
      "cell_type": "code",
      "execution_count": 10,
      "metadata": {
        "id": "6hfXoGlfCb73"
      },
      "outputs": [],
      "source": [
        "import sys\n",
        "sys.path.append('/content/drive/MyDrive/Agent-E-master_xyz')"
      ]
    },
    {
      "cell_type": "code",
      "execution_count": 11,
      "metadata": {
        "colab": {
          "base_uri": "https://localhost:8080/"
        },
        "id": "7e2OJAzcCiuD",
        "outputId": "d830090d-6f91-4c7c-d831-f24787bb5110"
      },
      "outputs": [
        {
          "output_type": "stream",
          "name": "stdout",
          "text": [
            "Collecting ray\n",
            "  Downloading ray-2.44.1-cp311-cp311-manylinux2014_x86_64.whl.metadata (19 kB)\n",
            "Requirement already satisfied: click>=7.0 in /usr/local/lib/python3.11/dist-packages (from ray) (8.1.8)\n",
            "Requirement already satisfied: filelock in /usr/local/lib/python3.11/dist-packages (from ray) (3.18.0)\n",
            "Requirement already satisfied: jsonschema in /usr/local/lib/python3.11/dist-packages (from ray) (4.23.0)\n",
            "Requirement already satisfied: msgpack<2.0.0,>=1.0.0 in /usr/local/lib/python3.11/dist-packages (from ray) (1.1.0)\n",
            "Requirement already satisfied: packaging in /usr/local/lib/python3.11/dist-packages (from ray) (24.2)\n",
            "Requirement already satisfied: protobuf!=3.19.5,>=3.15.3 in /usr/local/lib/python3.11/dist-packages (from ray) (4.25.5)\n",
            "Requirement already satisfied: pyyaml in /usr/local/lib/python3.11/dist-packages (from ray) (6.0.2)\n",
            "Requirement already satisfied: aiosignal in /usr/local/lib/python3.11/dist-packages (from ray) (1.3.2)\n",
            "Requirement already satisfied: frozenlist in /usr/local/lib/python3.11/dist-packages (from ray) (1.5.0)\n",
            "Requirement already satisfied: requests in /usr/local/lib/python3.11/dist-packages (from ray) (2.32.3)\n",
            "Requirement already satisfied: attrs>=22.2.0 in /usr/local/lib/python3.11/dist-packages (from jsonschema->ray) (25.3.0)\n",
            "Requirement already satisfied: jsonschema-specifications>=2023.03.6 in /usr/local/lib/python3.11/dist-packages (from jsonschema->ray) (2024.10.1)\n",
            "Requirement already satisfied: referencing>=0.28.4 in /usr/local/lib/python3.11/dist-packages (from jsonschema->ray) (0.36.2)\n",
            "Requirement already satisfied: rpds-py>=0.7.1 in /usr/local/lib/python3.11/dist-packages (from jsonschema->ray) (0.24.0)\n",
            "Requirement already satisfied: charset-normalizer<4,>=2 in /usr/local/lib/python3.11/dist-packages (from requests->ray) (3.4.1)\n",
            "Requirement already satisfied: idna<4,>=2.5 in /usr/local/lib/python3.11/dist-packages (from requests->ray) (3.10)\n",
            "Requirement already satisfied: urllib3<3,>=1.21.1 in /usr/local/lib/python3.11/dist-packages (from requests->ray) (2.3.0)\n",
            "Requirement already satisfied: certifi>=2017.4.17 in /usr/local/lib/python3.11/dist-packages (from requests->ray) (2024.12.14)\n",
            "Requirement already satisfied: typing-extensions>=4.4.0 in /usr/local/lib/python3.11/dist-packages (from referencing>=0.28.4->jsonschema->ray) (4.12.2)\n",
            "Downloading ray-2.44.1-cp311-cp311-manylinux2014_x86_64.whl (68.1 MB)\n",
            "\u001b[2K   \u001b[90m━━━━━━━━━━━━━━━━━━━━━━━━━━━━━━━━━━━━━━━━\u001b[0m \u001b[32m68.1/68.1 MB\u001b[0m \u001b[31m9.9 MB/s\u001b[0m eta \u001b[36m0:00:00\u001b[0m\n",
            "\u001b[?25hInstalling collected packages: ray\n",
            "Successfully installed ray-2.44.1\n"
          ]
        }
      ],
      "source": [
        "!pip install ray"
      ]
    },
    {
      "cell_type": "code",
      "execution_count": 12,
      "metadata": {
        "colab": {
          "base_uri": "https://localhost:8080/"
        },
        "id": "JhpCwdKLDEXe",
        "outputId": "25b27e31-e6a7-46a8-84fe-b80c47e4994a"
      },
      "outputs": [
        {
          "output_type": "stream",
          "name": "stdout",
          "text": [
            "Requirement already satisfied: numpy==1.26.4 in /usr/local/lib/python3.11/dist-packages (1.26.4)\n"
          ]
        }
      ],
      "source": [
        "!pip install numpy==1.26.4"
      ]
    },
    {
      "cell_type": "code",
      "execution_count": 13,
      "metadata": {
        "colab": {
          "base_uri": "https://localhost:8080/",
          "height": 634
        },
        "id": "Ek5YgVqcDO1u",
        "outputId": "cc7a74f1-d7ad-444e-9b33-550428629b4d"
      },
      "outputs": [
        {
          "output_type": "display_data",
          "data": {
            "text/plain": [
              "\u001b[92m──────────────────────────────────────────── \u001b[0m\u001b[1;34m📝 Cover Letter Generator\u001b[0m\u001b[92m ────────────────────────────────────────────\u001b[0m\n"
            ],
            "text/html": [
              "<pre style=\"white-space:pre;overflow-x:auto;line-height:normal;font-family:Menlo,'DejaVu Sans Mono',consolas,'Courier New',monospace\"><span style=\"color: #00ff00; text-decoration-color: #00ff00\">──────────────────────────────────────────── </span><span style=\"color: #000080; text-decoration-color: #000080; font-weight: bold\">📝 Cover Letter Generator</span><span style=\"color: #00ff00; text-decoration-color: #00ff00\"> ────────────────────────────────────────────</span>\n",
              "</pre>\n"
            ]
          },
          "metadata": {}
        },
        {
          "output_type": "stream",
          "name": "stdout",
          "text": [
            "{'result': \"**[Your Name]**  \\n[Your Address]  \\n[City, State, ZIP]  \\n[Email Address]  \\n[Phone Number]  \\n[Date]\\n\\nHiring Manager  \\nGoogle  \\n[Google's Address]  \\n[City, State, ZIP]\\n\\nDear Hiring Manager,\\n\\nI am writing to express my interest in the Software Engineer position at Google. With a strong background in software development, problem-solving, and a passion for innovative technology, I am excited about the opportunity to contribute to Google’s mission of organizing the world’s information and making it universally accessible and useful.\\n\\nI hold a [Your Degree] in [Your Major] from [Your University] and have [X] years of experience in [relevant technologies or fields, e.g., Java, Python, cloud computing, etc.]. Throughout my career, I have demonstrated my ability to collaborate with cross-functional teams, drive impactful software solutions, and continually enhance user experiences. I am particularly drawn to Google’s commitment to technical excellence and its collaborative, inclusive work culture, which I believe will provide an ideal environment for me to grow and contribute.\\n\\nThank you for considering my application. I am eager to further discuss how my skills and experience align with Google’s needs. I look forward to the opportunity to contribute to your team.\\n\\nSincerely,  \\n[Your Name]\", 'status': True, 'server_code': 2}\n"
          ]
        },
        {
          "output_type": "display_data",
          "data": {
            "text/plain": [
              "🚀 \u001b[32mCover letter generated successfully!\u001b[0m 🚀\n"
            ],
            "text/html": [
              "<pre style=\"white-space:pre;overflow-x:auto;line-height:normal;font-family:Menlo,'DejaVu Sans Mono',consolas,'Courier New',monospace\">🚀 <span style=\"color: #008000; text-decoration-color: #008000\">Cover letter generated successfully!</span> 🚀\n",
              "</pre>\n"
            ]
          },
          "metadata": {}
        },
        {
          "output_type": "display_data",
          "data": {
            "text/plain": [
              "\u001b[95m╭─\u001b[0m\u001b[95m────────────────────────────────────────────────\u001b[0m\u001b[95m Cover Letter \u001b[0m\u001b[95m─────────────────────────────────────────────────\u001b[0m\u001b[95m─╮\u001b[0m\n",
              "\u001b[95m│\u001b[0m **[Your Name]**                                                                                                 \u001b[95m│\u001b[0m\n",
              "\u001b[95m│\u001b[0m [Your Address]                                                                                                  \u001b[95m│\u001b[0m\n",
              "\u001b[95m│\u001b[0m [City, State, ZIP]                                                                                              \u001b[95m│\u001b[0m\n",
              "\u001b[95m│\u001b[0m [Email Address]                                                                                                 \u001b[95m│\u001b[0m\n",
              "\u001b[95m│\u001b[0m [Phone Number]                                                                                                  \u001b[95m│\u001b[0m\n",
              "\u001b[95m│\u001b[0m [Date]                                                                                                          \u001b[95m│\u001b[0m\n",
              "\u001b[95m│\u001b[0m                                                                                                                 \u001b[95m│\u001b[0m\n",
              "\u001b[95m│\u001b[0m Hiring Manager                                                                                                  \u001b[95m│\u001b[0m\n",
              "\u001b[95m│\u001b[0m Google                                                                                                          \u001b[95m│\u001b[0m\n",
              "\u001b[95m│\u001b[0m [Google's Address]                                                                                              \u001b[95m│\u001b[0m\n",
              "\u001b[95m│\u001b[0m [City, State, ZIP]                                                                                              \u001b[95m│\u001b[0m\n",
              "\u001b[95m│\u001b[0m                                                                                                                 \u001b[95m│\u001b[0m\n",
              "\u001b[95m│\u001b[0m Dear Hiring Manager,                                                                                            \u001b[95m│\u001b[0m\n",
              "\u001b[95m│\u001b[0m                                                                                                                 \u001b[95m│\u001b[0m\n",
              "\u001b[95m│\u001b[0m I am writing to express my interest in the Software Engineer position at Google. With a strong background in    \u001b[95m│\u001b[0m\n",
              "\u001b[95m│\u001b[0m software development, problem-solving, and a passion for innovative technology, I am excited about the          \u001b[95m│\u001b[0m\n",
              "\u001b[95m│\u001b[0m opportunity to contribute to Google’s mission of organizing the world’s information and making it universally   \u001b[95m│\u001b[0m\n",
              "\u001b[95m│\u001b[0m accessible and useful.                                                                                          \u001b[95m│\u001b[0m\n",
              "\u001b[95m│\u001b[0m                                                                                                                 \u001b[95m│\u001b[0m\n",
              "\u001b[95m│\u001b[0m I hold a [Your Degree] in [Your Major] from [Your University] and have [X] years of experience in . Throughout  \u001b[95m│\u001b[0m\n",
              "\u001b[95m│\u001b[0m my career, I have demonstrated my ability to collaborate with cross-functional teams, drive impactful software  \u001b[95m│\u001b[0m\n",
              "\u001b[95m│\u001b[0m solutions, and continually enhance user experiences. I am particularly drawn to Google’s commitment to          \u001b[95m│\u001b[0m\n",
              "\u001b[95m│\u001b[0m technical excellence and its collaborative, inclusive work culture, which I believe will provide an ideal       \u001b[95m│\u001b[0m\n",
              "\u001b[95m│\u001b[0m environment for me to grow and contribute.                                                                      \u001b[95m│\u001b[0m\n",
              "\u001b[95m│\u001b[0m                                                                                                                 \u001b[95m│\u001b[0m\n",
              "\u001b[95m│\u001b[0m Thank you for considering my application. I am eager to further discuss how my skills and experience align with \u001b[95m│\u001b[0m\n",
              "\u001b[95m│\u001b[0m Google’s needs. I look forward to the opportunity to contribute to your team.                                   \u001b[95m│\u001b[0m\n",
              "\u001b[95m│\u001b[0m                                                                                                                 \u001b[95m│\u001b[0m\n",
              "\u001b[95m│\u001b[0m Sincerely,                                                                                                      \u001b[95m│\u001b[0m\n",
              "\u001b[95m│\u001b[0m [Your Name]                                                                                                     \u001b[95m│\u001b[0m\n",
              "\u001b[95m╰─────────────────────────────────────────────────────────────────────────────────────────────────────────────────╯\u001b[0m\n"
            ],
            "text/html": [
              "<pre style=\"white-space:pre;overflow-x:auto;line-height:normal;font-family:Menlo,'DejaVu Sans Mono',consolas,'Courier New',monospace\"><span style=\"color: #ff00ff; text-decoration-color: #ff00ff\">╭───────────────────────────────────────────────── Cover Letter ──────────────────────────────────────────────────╮</span>\n",
              "<span style=\"color: #ff00ff; text-decoration-color: #ff00ff\">│</span> **[Your Name]**                                                                                                 <span style=\"color: #ff00ff; text-decoration-color: #ff00ff\">│</span>\n",
              "<span style=\"color: #ff00ff; text-decoration-color: #ff00ff\">│</span> [Your Address]                                                                                                  <span style=\"color: #ff00ff; text-decoration-color: #ff00ff\">│</span>\n",
              "<span style=\"color: #ff00ff; text-decoration-color: #ff00ff\">│</span> [City, State, ZIP]                                                                                              <span style=\"color: #ff00ff; text-decoration-color: #ff00ff\">│</span>\n",
              "<span style=\"color: #ff00ff; text-decoration-color: #ff00ff\">│</span> [Email Address]                                                                                                 <span style=\"color: #ff00ff; text-decoration-color: #ff00ff\">│</span>\n",
              "<span style=\"color: #ff00ff; text-decoration-color: #ff00ff\">│</span> [Phone Number]                                                                                                  <span style=\"color: #ff00ff; text-decoration-color: #ff00ff\">│</span>\n",
              "<span style=\"color: #ff00ff; text-decoration-color: #ff00ff\">│</span> [Date]                                                                                                          <span style=\"color: #ff00ff; text-decoration-color: #ff00ff\">│</span>\n",
              "<span style=\"color: #ff00ff; text-decoration-color: #ff00ff\">│</span>                                                                                                                 <span style=\"color: #ff00ff; text-decoration-color: #ff00ff\">│</span>\n",
              "<span style=\"color: #ff00ff; text-decoration-color: #ff00ff\">│</span> Hiring Manager                                                                                                  <span style=\"color: #ff00ff; text-decoration-color: #ff00ff\">│</span>\n",
              "<span style=\"color: #ff00ff; text-decoration-color: #ff00ff\">│</span> Google                                                                                                          <span style=\"color: #ff00ff; text-decoration-color: #ff00ff\">│</span>\n",
              "<span style=\"color: #ff00ff; text-decoration-color: #ff00ff\">│</span> [Google's Address]                                                                                              <span style=\"color: #ff00ff; text-decoration-color: #ff00ff\">│</span>\n",
              "<span style=\"color: #ff00ff; text-decoration-color: #ff00ff\">│</span> [City, State, ZIP]                                                                                              <span style=\"color: #ff00ff; text-decoration-color: #ff00ff\">│</span>\n",
              "<span style=\"color: #ff00ff; text-decoration-color: #ff00ff\">│</span>                                                                                                                 <span style=\"color: #ff00ff; text-decoration-color: #ff00ff\">│</span>\n",
              "<span style=\"color: #ff00ff; text-decoration-color: #ff00ff\">│</span> Dear Hiring Manager,                                                                                            <span style=\"color: #ff00ff; text-decoration-color: #ff00ff\">│</span>\n",
              "<span style=\"color: #ff00ff; text-decoration-color: #ff00ff\">│</span>                                                                                                                 <span style=\"color: #ff00ff; text-decoration-color: #ff00ff\">│</span>\n",
              "<span style=\"color: #ff00ff; text-decoration-color: #ff00ff\">│</span> I am writing to express my interest in the Software Engineer position at Google. With a strong background in    <span style=\"color: #ff00ff; text-decoration-color: #ff00ff\">│</span>\n",
              "<span style=\"color: #ff00ff; text-decoration-color: #ff00ff\">│</span> software development, problem-solving, and a passion for innovative technology, I am excited about the          <span style=\"color: #ff00ff; text-decoration-color: #ff00ff\">│</span>\n",
              "<span style=\"color: #ff00ff; text-decoration-color: #ff00ff\">│</span> opportunity to contribute to Google’s mission of organizing the world’s information and making it universally   <span style=\"color: #ff00ff; text-decoration-color: #ff00ff\">│</span>\n",
              "<span style=\"color: #ff00ff; text-decoration-color: #ff00ff\">│</span> accessible and useful.                                                                                          <span style=\"color: #ff00ff; text-decoration-color: #ff00ff\">│</span>\n",
              "<span style=\"color: #ff00ff; text-decoration-color: #ff00ff\">│</span>                                                                                                                 <span style=\"color: #ff00ff; text-decoration-color: #ff00ff\">│</span>\n",
              "<span style=\"color: #ff00ff; text-decoration-color: #ff00ff\">│</span> I hold a [Your Degree] in [Your Major] from [Your University] and have [X] years of experience in . Throughout  <span style=\"color: #ff00ff; text-decoration-color: #ff00ff\">│</span>\n",
              "<span style=\"color: #ff00ff; text-decoration-color: #ff00ff\">│</span> my career, I have demonstrated my ability to collaborate with cross-functional teams, drive impactful software  <span style=\"color: #ff00ff; text-decoration-color: #ff00ff\">│</span>\n",
              "<span style=\"color: #ff00ff; text-decoration-color: #ff00ff\">│</span> solutions, and continually enhance user experiences. I am particularly drawn to Google’s commitment to          <span style=\"color: #ff00ff; text-decoration-color: #ff00ff\">│</span>\n",
              "<span style=\"color: #ff00ff; text-decoration-color: #ff00ff\">│</span> technical excellence and its collaborative, inclusive work culture, which I believe will provide an ideal       <span style=\"color: #ff00ff; text-decoration-color: #ff00ff\">│</span>\n",
              "<span style=\"color: #ff00ff; text-decoration-color: #ff00ff\">│</span> environment for me to grow and contribute.                                                                      <span style=\"color: #ff00ff; text-decoration-color: #ff00ff\">│</span>\n",
              "<span style=\"color: #ff00ff; text-decoration-color: #ff00ff\">│</span>                                                                                                                 <span style=\"color: #ff00ff; text-decoration-color: #ff00ff\">│</span>\n",
              "<span style=\"color: #ff00ff; text-decoration-color: #ff00ff\">│</span> Thank you for considering my application. I am eager to further discuss how my skills and experience align with <span style=\"color: #ff00ff; text-decoration-color: #ff00ff\">│</span>\n",
              "<span style=\"color: #ff00ff; text-decoration-color: #ff00ff\">│</span> Google’s needs. I look forward to the opportunity to contribute to your team.                                   <span style=\"color: #ff00ff; text-decoration-color: #ff00ff\">│</span>\n",
              "<span style=\"color: #ff00ff; text-decoration-color: #ff00ff\">│</span>                                                                                                                 <span style=\"color: #ff00ff; text-decoration-color: #ff00ff\">│</span>\n",
              "<span style=\"color: #ff00ff; text-decoration-color: #ff00ff\">│</span> Sincerely,                                                                                                      <span style=\"color: #ff00ff; text-decoration-color: #ff00ff\">│</span>\n",
              "<span style=\"color: #ff00ff; text-decoration-color: #ff00ff\">│</span> [Your Name]                                                                                                     <span style=\"color: #ff00ff; text-decoration-color: #ff00ff\">│</span>\n",
              "<span style=\"color: #ff00ff; text-decoration-color: #ff00ff\">╰─────────────────────────────────────────────────────────────────────────────────────────────────────────────────╯</span>\n",
              "</pre>\n"
            ]
          },
          "metadata": {}
        }
      ],
      "source": [
        "import requests, json\n",
        "from rich.console import Console\n",
        "from rich.panel import Panel\n",
        "\n",
        "# Console setup for rich output\n",
        "console = Console()\n",
        "console.rule(\"[bold blue]📝 Cover Letter Generator[/bold blue]\")\n",
        "#url = \"https://llama-ai-mixtral-cohere-gpt-api.p.rapidapi.com/nmixtral\"\n",
        "url=\"https://open-ai32.p.rapidapi.com/conversationgpt35\"\n",
        "# Prepare the prompt for the Mixtral model\n",
        "prompt_text = \"Write a short professional cover letter for a software engineer applying at Google.\"\n",
        "# Construct the chat messages payload\n",
        "messages = [\n",
        "    #{\"role\": \"system\", \"content\": \"You are an expert career assistant that writes tailored, professional cover letters.\"},\n",
        "    {\"role\": \"user\", \"content\": prompt_text}\n",
        "]\n",
        "\n",
        "payload = {\n",
        "    \"messages\": messages,\n",
        "    \"web_access\": False,\n",
        "    \"consider_chat_history\": True,\n",
        "    \"system_prompt\": \"\",\n",
        "    \"conversation_id\": \"\"\n",
        "}\n",
        "headers = {\n",
        "    \"Content-Type\": \"application/json\",\n",
        "    \"X-RapidAPI-Key\": \"be5738a9e9msh08bfcd8fad98672p136d4bjsn7df8eb80c816\",\n",
        "    \"X-RapidAPI-Host\": \"open-ai32.p.rapidapi.com\"#\"llama-ai-mixtral-cohere-gpt-api.p.rapidapi.com\"\n",
        "}\n",
        "\n",
        "# Make the POST request to the Mixtral endpoint\n",
        "response = requests.post(url, headers=headers, json=payload)\n",
        "response_data = response.json()\n",
        "print(response_data)\n",
        "# Handle and display the response\n",
        "if response.status_code == 200: #and \"choices\" in response_data:\n",
        "    cover_letter_text = response_data.get(\"result\", \"\").strip()\n",
        "    console.print(\":rocket: [green]Cover letter generated successfully![/green] :rocket:\")\n",
        "    console.print(Panel(cover_letter_text, title=\"Cover Letter\", border_style=\"bright_magenta\"))\n",
        "else:\n",
        "    console.print(f\"[red]Request failed with status code {response.status_code}[/red]\")\n",
        "    console.print(f\"[red]{response_data}[/red]\")"
      ]
    },
    {
      "cell_type": "code",
      "execution_count": 14,
      "metadata": {
        "colab": {
          "base_uri": "https://localhost:8080/",
          "height": 954
        },
        "id": "DnT0FcFBD4u2",
        "outputId": "952be7f1-9872-412e-e5d7-f10f8f46584b"
      },
      "outputs": [
        {
          "output_type": "display_data",
          "data": {
            "text/plain": [
              "\u001b[92m──────────────────────────────────────────── \u001b[0m\u001b[1;34m📝 Cover Letter Generator\u001b[0m\u001b[92m ────────────────────────────────────────────\u001b[0m\n"
            ],
            "text/html": [
              "<pre style=\"white-space:pre;overflow-x:auto;line-height:normal;font-family:Menlo,'DejaVu Sans Mono',consolas,'Courier New',monospace\"><span style=\"color: #00ff00; text-decoration-color: #00ff00\">──────────────────────────────────────────── </span><span style=\"color: #000080; text-decoration-color: #000080; font-weight: bold\">📝 Cover Letter Generator</span><span style=\"color: #00ff00; text-decoration-color: #00ff00\"> ────────────────────────────────────────────</span>\n",
              "</pre>\n"
            ]
          },
          "metadata": {}
        },
        {
          "output_type": "stream",
          "name": "stdout",
          "text": [
            "{'result': '[Your Name]  \\n[Your Address]  \\n[City, State, Zip]  \\n[Email Address]  \\n[Phone Number]  \\n[Date]  \\n\\nHiring Manager  \\nAcadia Technologies, Inc.  \\n[Company Address]  \\n[City, State, Zip]  \\n\\nDear Hiring Manager,\\n\\nI am writing to express my interest in the Node.js Backend Developer position at Acadia Technologies, Inc., as advertised on Dice. With a strong foundation in web application development, a passion for data science, and hands-on experience in building robust applications, I am excited about the opportunity to contribute to your team.\\n\\nI hold an Integrated Dual Degree (B.Tech + MBA) in IT from IIIT Gwalior, where I honed my technical skills and developed a keen interest in backend development. My recent experience at IVTREE in Bangalore involved developing an E-Commerce web application using Python, FastAPI, and Flask, where I focused on ensuring robustness and productivity. I utilized PostgreSQL for database management and implemented continuous integration with Jenkins, which aligns well with the requirements of the Node.js role.\\n\\nI possess a deep understanding of JavaScript, including modern features (ES6+) and asynchronous programming concepts such as callbacks, Promises, and async/await. My familiarity with RESTful API development and experience with both SQL and NoSQL databases, including PostgreSQL and MySQL, equip me to design and implement scalable and maintainable applications effectively. Additionally, I have worked with various web technologies and understand the importance of security practices and performance optimization techniques.\\n\\nIn my projects, I have demonstrated my ability to leverage machine learning techniques and deep learning models, which not only showcases my analytical skills but also my commitment to delivering high-quality solutions. I am proficient in using version control systems like Git, which is essential for collaborative development, and I am well-versed in implementing effective error handling and debugging techniques.\\n\\nBeyond my technical skills, I am a motivated professional who thrives in dynamic environments. I am eager to bring my innovative solutions and collaborative spirit to Acadia Technologies, contributing to the development of cutting-edge applications that meet the needs of your clients.\\n\\nThank you for considering my application. I look forward to the opportunity to discuss how my skills and experiences align with the goals of Acadia Technologies. I am excited about the possibility of contributing to your team and am available for an interview at your earliest convenience.\\n\\nWarm regards,\\n\\nYash Agrawal  \\nimg_2017061@iiitm.ac.in  \\n+91 8218469891  \\n[LinkedIn Profile URL]', 'status': True}\n"
          ]
        },
        {
          "output_type": "display_data",
          "data": {
            "text/plain": [
              "🚀 \u001b[32mCover letter generated successfully!\u001b[0m 🚀\n"
            ],
            "text/html": [
              "<pre style=\"white-space:pre;overflow-x:auto;line-height:normal;font-family:Menlo,'DejaVu Sans Mono',consolas,'Courier New',monospace\">🚀 <span style=\"color: #008000; text-decoration-color: #008000\">Cover letter generated successfully!</span> 🚀\n",
              "</pre>\n"
            ]
          },
          "metadata": {}
        },
        {
          "output_type": "display_data",
          "data": {
            "text/plain": [
              "\u001b[95m╭─\u001b[0m\u001b[95m────────────────────────────────────────────────\u001b[0m\u001b[95m Cover Letter \u001b[0m\u001b[95m─────────────────────────────────────────────────\u001b[0m\u001b[95m─╮\u001b[0m\n",
              "\u001b[95m│\u001b[0m [Your Name]                                                                                                     \u001b[95m│\u001b[0m\n",
              "\u001b[95m│\u001b[0m [Your Address]                                                                                                  \u001b[95m│\u001b[0m\n",
              "\u001b[95m│\u001b[0m [City, State, Zip]                                                                                              \u001b[95m│\u001b[0m\n",
              "\u001b[95m│\u001b[0m [Email Address]                                                                                                 \u001b[95m│\u001b[0m\n",
              "\u001b[95m│\u001b[0m [Phone Number]                                                                                                  \u001b[95m│\u001b[0m\n",
              "\u001b[95m│\u001b[0m [Date]                                                                                                          \u001b[95m│\u001b[0m\n",
              "\u001b[95m│\u001b[0m                                                                                                                 \u001b[95m│\u001b[0m\n",
              "\u001b[95m│\u001b[0m Hiring Manager                                                                                                  \u001b[95m│\u001b[0m\n",
              "\u001b[95m│\u001b[0m Acadia Technologies, Inc.                                                                                       \u001b[95m│\u001b[0m\n",
              "\u001b[95m│\u001b[0m [Company Address]                                                                                               \u001b[95m│\u001b[0m\n",
              "\u001b[95m│\u001b[0m [City, State, Zip]                                                                                              \u001b[95m│\u001b[0m\n",
              "\u001b[95m│\u001b[0m                                                                                                                 \u001b[95m│\u001b[0m\n",
              "\u001b[95m│\u001b[0m Dear Hiring Manager,                                                                                            \u001b[95m│\u001b[0m\n",
              "\u001b[95m│\u001b[0m                                                                                                                 \u001b[95m│\u001b[0m\n",
              "\u001b[95m│\u001b[0m I am writing to express my interest in the Node.js Backend Developer position at Acadia Technologies, Inc., as  \u001b[95m│\u001b[0m\n",
              "\u001b[95m│\u001b[0m advertised on Dice. With a strong foundation in web application development, a passion for data science, and    \u001b[95m│\u001b[0m\n",
              "\u001b[95m│\u001b[0m hands-on experience in building robust applications, I am excited about the opportunity to contribute to your   \u001b[95m│\u001b[0m\n",
              "\u001b[95m│\u001b[0m team.                                                                                                           \u001b[95m│\u001b[0m\n",
              "\u001b[95m│\u001b[0m                                                                                                                 \u001b[95m│\u001b[0m\n",
              "\u001b[95m│\u001b[0m I hold an Integrated Dual Degree (B.Tech + MBA) in IT from IIIT Gwalior, where I honed my technical skills and  \u001b[95m│\u001b[0m\n",
              "\u001b[95m│\u001b[0m developed a keen interest in backend development. My recent experience at IVTREE in Bangalore involved          \u001b[95m│\u001b[0m\n",
              "\u001b[95m│\u001b[0m developing an E-Commerce web application using Python, FastAPI, and Flask, where I focused on ensuring          \u001b[95m│\u001b[0m\n",
              "\u001b[95m│\u001b[0m robustness and productivity. I utilized PostgreSQL for database management and implemented continuous           \u001b[95m│\u001b[0m\n",
              "\u001b[95m│\u001b[0m integration with Jenkins, which aligns well with the requirements of the Node.js role.                          \u001b[95m│\u001b[0m\n",
              "\u001b[95m│\u001b[0m                                                                                                                 \u001b[95m│\u001b[0m\n",
              "\u001b[95m│\u001b[0m I possess a deep understanding of JavaScript, including modern features (ES6+) and asynchronous programming     \u001b[95m│\u001b[0m\n",
              "\u001b[95m│\u001b[0m concepts such as callbacks, Promises, and async/await. My familiarity with RESTful API development and          \u001b[95m│\u001b[0m\n",
              "\u001b[95m│\u001b[0m experience with both SQL and NoSQL databases, including PostgreSQL and MySQL, equip me to design and implement  \u001b[95m│\u001b[0m\n",
              "\u001b[95m│\u001b[0m scalable and maintainable applications effectively. Additionally, I have worked with various web technologies   \u001b[95m│\u001b[0m\n",
              "\u001b[95m│\u001b[0m and understand the importance of security practices and performance optimization techniques.                    \u001b[95m│\u001b[0m\n",
              "\u001b[95m│\u001b[0m                                                                                                                 \u001b[95m│\u001b[0m\n",
              "\u001b[95m│\u001b[0m In my projects, I have demonstrated my ability to leverage machine learning techniques and deep learning        \u001b[95m│\u001b[0m\n",
              "\u001b[95m│\u001b[0m models, which not only showcases my analytical skills but also my commitment to delivering high-quality         \u001b[95m│\u001b[0m\n",
              "\u001b[95m│\u001b[0m solutions. I am proficient in using version control systems like Git, which is essential for collaborative      \u001b[95m│\u001b[0m\n",
              "\u001b[95m│\u001b[0m development, and I am well-versed in implementing effective error handling and debugging techniques.            \u001b[95m│\u001b[0m\n",
              "\u001b[95m│\u001b[0m                                                                                                                 \u001b[95m│\u001b[0m\n",
              "\u001b[95m│\u001b[0m Beyond my technical skills, I am a motivated professional who thrives in dynamic environments. I am eager to    \u001b[95m│\u001b[0m\n",
              "\u001b[95m│\u001b[0m bring my innovative solutions and collaborative spirit to Acadia Technologies, contributing to the development  \u001b[95m│\u001b[0m\n",
              "\u001b[95m│\u001b[0m of cutting-edge applications that meet the needs of your clients.                                               \u001b[95m│\u001b[0m\n",
              "\u001b[95m│\u001b[0m                                                                                                                 \u001b[95m│\u001b[0m\n",
              "\u001b[95m│\u001b[0m Thank you for considering my application. I look forward to the opportunity to discuss how my skills and        \u001b[95m│\u001b[0m\n",
              "\u001b[95m│\u001b[0m experiences align with the goals of Acadia Technologies. I am excited about the possibility of contributing to  \u001b[95m│\u001b[0m\n",
              "\u001b[95m│\u001b[0m your team and am available for an interview at your earliest convenience.                                       \u001b[95m│\u001b[0m\n",
              "\u001b[95m│\u001b[0m                                                                                                                 \u001b[95m│\u001b[0m\n",
              "\u001b[95m│\u001b[0m Warm regards,                                                                                                   \u001b[95m│\u001b[0m\n",
              "\u001b[95m│\u001b[0m                                                                                                                 \u001b[95m│\u001b[0m\n",
              "\u001b[95m│\u001b[0m Yash Agrawal                                                                                                    \u001b[95m│\u001b[0m\n",
              "\u001b[95m│\u001b[0m img_2017061@iiitm.ac.in                                                                                         \u001b[95m│\u001b[0m\n",
              "\u001b[95m│\u001b[0m +91 8218469891                                                                                                  \u001b[95m│\u001b[0m\n",
              "\u001b[95m│\u001b[0m [LinkedIn Profile URL]                                                                                          \u001b[95m│\u001b[0m\n",
              "\u001b[95m╰─────────────────────────────────────────────────────────────────────────────────────────────────────────────────╯\u001b[0m\n"
            ],
            "text/html": [
              "<pre style=\"white-space:pre;overflow-x:auto;line-height:normal;font-family:Menlo,'DejaVu Sans Mono',consolas,'Courier New',monospace\"><span style=\"color: #ff00ff; text-decoration-color: #ff00ff\">╭───────────────────────────────────────────────── Cover Letter ──────────────────────────────────────────────────╮</span>\n",
              "<span style=\"color: #ff00ff; text-decoration-color: #ff00ff\">│</span> [Your Name]                                                                                                     <span style=\"color: #ff00ff; text-decoration-color: #ff00ff\">│</span>\n",
              "<span style=\"color: #ff00ff; text-decoration-color: #ff00ff\">│</span> [Your Address]                                                                                                  <span style=\"color: #ff00ff; text-decoration-color: #ff00ff\">│</span>\n",
              "<span style=\"color: #ff00ff; text-decoration-color: #ff00ff\">│</span> [City, State, Zip]                                                                                              <span style=\"color: #ff00ff; text-decoration-color: #ff00ff\">│</span>\n",
              "<span style=\"color: #ff00ff; text-decoration-color: #ff00ff\">│</span> [Email Address]                                                                                                 <span style=\"color: #ff00ff; text-decoration-color: #ff00ff\">│</span>\n",
              "<span style=\"color: #ff00ff; text-decoration-color: #ff00ff\">│</span> [Phone Number]                                                                                                  <span style=\"color: #ff00ff; text-decoration-color: #ff00ff\">│</span>\n",
              "<span style=\"color: #ff00ff; text-decoration-color: #ff00ff\">│</span> [Date]                                                                                                          <span style=\"color: #ff00ff; text-decoration-color: #ff00ff\">│</span>\n",
              "<span style=\"color: #ff00ff; text-decoration-color: #ff00ff\">│</span>                                                                                                                 <span style=\"color: #ff00ff; text-decoration-color: #ff00ff\">│</span>\n",
              "<span style=\"color: #ff00ff; text-decoration-color: #ff00ff\">│</span> Hiring Manager                                                                                                  <span style=\"color: #ff00ff; text-decoration-color: #ff00ff\">│</span>\n",
              "<span style=\"color: #ff00ff; text-decoration-color: #ff00ff\">│</span> Acadia Technologies, Inc.                                                                                       <span style=\"color: #ff00ff; text-decoration-color: #ff00ff\">│</span>\n",
              "<span style=\"color: #ff00ff; text-decoration-color: #ff00ff\">│</span> [Company Address]                                                                                               <span style=\"color: #ff00ff; text-decoration-color: #ff00ff\">│</span>\n",
              "<span style=\"color: #ff00ff; text-decoration-color: #ff00ff\">│</span> [City, State, Zip]                                                                                              <span style=\"color: #ff00ff; text-decoration-color: #ff00ff\">│</span>\n",
              "<span style=\"color: #ff00ff; text-decoration-color: #ff00ff\">│</span>                                                                                                                 <span style=\"color: #ff00ff; text-decoration-color: #ff00ff\">│</span>\n",
              "<span style=\"color: #ff00ff; text-decoration-color: #ff00ff\">│</span> Dear Hiring Manager,                                                                                            <span style=\"color: #ff00ff; text-decoration-color: #ff00ff\">│</span>\n",
              "<span style=\"color: #ff00ff; text-decoration-color: #ff00ff\">│</span>                                                                                                                 <span style=\"color: #ff00ff; text-decoration-color: #ff00ff\">│</span>\n",
              "<span style=\"color: #ff00ff; text-decoration-color: #ff00ff\">│</span> I am writing to express my interest in the Node.js Backend Developer position at Acadia Technologies, Inc., as  <span style=\"color: #ff00ff; text-decoration-color: #ff00ff\">│</span>\n",
              "<span style=\"color: #ff00ff; text-decoration-color: #ff00ff\">│</span> advertised on Dice. With a strong foundation in web application development, a passion for data science, and    <span style=\"color: #ff00ff; text-decoration-color: #ff00ff\">│</span>\n",
              "<span style=\"color: #ff00ff; text-decoration-color: #ff00ff\">│</span> hands-on experience in building robust applications, I am excited about the opportunity to contribute to your   <span style=\"color: #ff00ff; text-decoration-color: #ff00ff\">│</span>\n",
              "<span style=\"color: #ff00ff; text-decoration-color: #ff00ff\">│</span> team.                                                                                                           <span style=\"color: #ff00ff; text-decoration-color: #ff00ff\">│</span>\n",
              "<span style=\"color: #ff00ff; text-decoration-color: #ff00ff\">│</span>                                                                                                                 <span style=\"color: #ff00ff; text-decoration-color: #ff00ff\">│</span>\n",
              "<span style=\"color: #ff00ff; text-decoration-color: #ff00ff\">│</span> I hold an Integrated Dual Degree (B.Tech + MBA) in IT from IIIT Gwalior, where I honed my technical skills and  <span style=\"color: #ff00ff; text-decoration-color: #ff00ff\">│</span>\n",
              "<span style=\"color: #ff00ff; text-decoration-color: #ff00ff\">│</span> developed a keen interest in backend development. My recent experience at IVTREE in Bangalore involved          <span style=\"color: #ff00ff; text-decoration-color: #ff00ff\">│</span>\n",
              "<span style=\"color: #ff00ff; text-decoration-color: #ff00ff\">│</span> developing an E-Commerce web application using Python, FastAPI, and Flask, where I focused on ensuring          <span style=\"color: #ff00ff; text-decoration-color: #ff00ff\">│</span>\n",
              "<span style=\"color: #ff00ff; text-decoration-color: #ff00ff\">│</span> robustness and productivity. I utilized PostgreSQL for database management and implemented continuous           <span style=\"color: #ff00ff; text-decoration-color: #ff00ff\">│</span>\n",
              "<span style=\"color: #ff00ff; text-decoration-color: #ff00ff\">│</span> integration with Jenkins, which aligns well with the requirements of the Node.js role.                          <span style=\"color: #ff00ff; text-decoration-color: #ff00ff\">│</span>\n",
              "<span style=\"color: #ff00ff; text-decoration-color: #ff00ff\">│</span>                                                                                                                 <span style=\"color: #ff00ff; text-decoration-color: #ff00ff\">│</span>\n",
              "<span style=\"color: #ff00ff; text-decoration-color: #ff00ff\">│</span> I possess a deep understanding of JavaScript, including modern features (ES6+) and asynchronous programming     <span style=\"color: #ff00ff; text-decoration-color: #ff00ff\">│</span>\n",
              "<span style=\"color: #ff00ff; text-decoration-color: #ff00ff\">│</span> concepts such as callbacks, Promises, and async/await. My familiarity with RESTful API development and          <span style=\"color: #ff00ff; text-decoration-color: #ff00ff\">│</span>\n",
              "<span style=\"color: #ff00ff; text-decoration-color: #ff00ff\">│</span> experience with both SQL and NoSQL databases, including PostgreSQL and MySQL, equip me to design and implement  <span style=\"color: #ff00ff; text-decoration-color: #ff00ff\">│</span>\n",
              "<span style=\"color: #ff00ff; text-decoration-color: #ff00ff\">│</span> scalable and maintainable applications effectively. Additionally, I have worked with various web technologies   <span style=\"color: #ff00ff; text-decoration-color: #ff00ff\">│</span>\n",
              "<span style=\"color: #ff00ff; text-decoration-color: #ff00ff\">│</span> and understand the importance of security practices and performance optimization techniques.                    <span style=\"color: #ff00ff; text-decoration-color: #ff00ff\">│</span>\n",
              "<span style=\"color: #ff00ff; text-decoration-color: #ff00ff\">│</span>                                                                                                                 <span style=\"color: #ff00ff; text-decoration-color: #ff00ff\">│</span>\n",
              "<span style=\"color: #ff00ff; text-decoration-color: #ff00ff\">│</span> In my projects, I have demonstrated my ability to leverage machine learning techniques and deep learning        <span style=\"color: #ff00ff; text-decoration-color: #ff00ff\">│</span>\n",
              "<span style=\"color: #ff00ff; text-decoration-color: #ff00ff\">│</span> models, which not only showcases my analytical skills but also my commitment to delivering high-quality         <span style=\"color: #ff00ff; text-decoration-color: #ff00ff\">│</span>\n",
              "<span style=\"color: #ff00ff; text-decoration-color: #ff00ff\">│</span> solutions. I am proficient in using version control systems like Git, which is essential for collaborative      <span style=\"color: #ff00ff; text-decoration-color: #ff00ff\">│</span>\n",
              "<span style=\"color: #ff00ff; text-decoration-color: #ff00ff\">│</span> development, and I am well-versed in implementing effective error handling and debugging techniques.            <span style=\"color: #ff00ff; text-decoration-color: #ff00ff\">│</span>\n",
              "<span style=\"color: #ff00ff; text-decoration-color: #ff00ff\">│</span>                                                                                                                 <span style=\"color: #ff00ff; text-decoration-color: #ff00ff\">│</span>\n",
              "<span style=\"color: #ff00ff; text-decoration-color: #ff00ff\">│</span> Beyond my technical skills, I am a motivated professional who thrives in dynamic environments. I am eager to    <span style=\"color: #ff00ff; text-decoration-color: #ff00ff\">│</span>\n",
              "<span style=\"color: #ff00ff; text-decoration-color: #ff00ff\">│</span> bring my innovative solutions and collaborative spirit to Acadia Technologies, contributing to the development  <span style=\"color: #ff00ff; text-decoration-color: #ff00ff\">│</span>\n",
              "<span style=\"color: #ff00ff; text-decoration-color: #ff00ff\">│</span> of cutting-edge applications that meet the needs of your clients.                                               <span style=\"color: #ff00ff; text-decoration-color: #ff00ff\">│</span>\n",
              "<span style=\"color: #ff00ff; text-decoration-color: #ff00ff\">│</span>                                                                                                                 <span style=\"color: #ff00ff; text-decoration-color: #ff00ff\">│</span>\n",
              "<span style=\"color: #ff00ff; text-decoration-color: #ff00ff\">│</span> Thank you for considering my application. I look forward to the opportunity to discuss how my skills and        <span style=\"color: #ff00ff; text-decoration-color: #ff00ff\">│</span>\n",
              "<span style=\"color: #ff00ff; text-decoration-color: #ff00ff\">│</span> experiences align with the goals of Acadia Technologies. I am excited about the possibility of contributing to  <span style=\"color: #ff00ff; text-decoration-color: #ff00ff\">│</span>\n",
              "<span style=\"color: #ff00ff; text-decoration-color: #ff00ff\">│</span> your team and am available for an interview at your earliest convenience.                                       <span style=\"color: #ff00ff; text-decoration-color: #ff00ff\">│</span>\n",
              "<span style=\"color: #ff00ff; text-decoration-color: #ff00ff\">│</span>                                                                                                                 <span style=\"color: #ff00ff; text-decoration-color: #ff00ff\">│</span>\n",
              "<span style=\"color: #ff00ff; text-decoration-color: #ff00ff\">│</span> Warm regards,                                                                                                   <span style=\"color: #ff00ff; text-decoration-color: #ff00ff\">│</span>\n",
              "<span style=\"color: #ff00ff; text-decoration-color: #ff00ff\">│</span>                                                                                                                 <span style=\"color: #ff00ff; text-decoration-color: #ff00ff\">│</span>\n",
              "<span style=\"color: #ff00ff; text-decoration-color: #ff00ff\">│</span> Yash Agrawal                                                                                                    <span style=\"color: #ff00ff; text-decoration-color: #ff00ff\">│</span>\n",
              "<span style=\"color: #ff00ff; text-decoration-color: #ff00ff\">│</span> img_2017061@iiitm.ac.in                                                                                         <span style=\"color: #ff00ff; text-decoration-color: #ff00ff\">│</span>\n",
              "<span style=\"color: #ff00ff; text-decoration-color: #ff00ff\">│</span> +91 8218469891                                                                                                  <span style=\"color: #ff00ff; text-decoration-color: #ff00ff\">│</span>\n",
              "<span style=\"color: #ff00ff; text-decoration-color: #ff00ff\">│</span> [LinkedIn Profile URL]                                                                                          <span style=\"color: #ff00ff; text-decoration-color: #ff00ff\">│</span>\n",
              "<span style=\"color: #ff00ff; text-decoration-color: #ff00ff\">╰─────────────────────────────────────────────────────────────────────────────────────────────────────────────────╯</span>\n",
              "</pre>\n"
            ]
          },
          "metadata": {}
        }
      ],
      "source": [
        "import requests, json\n",
        "from rich.console import Console\n",
        "from rich.panel import Panel\n",
        "\n",
        "# Console setup for rich output\n",
        "console = Console()\n",
        "console.rule(\"[bold blue]📝 Cover Letter Generator[/bold blue]\")\n",
        "url=\"https://open-ai32.p.rapidapi.com/conversationllama\"\n",
        "prompt_text = f\"Using the resume and job details provided, write a professional cover letter.\\n\\n\"+f\"Company: {company}\\n\"+ f\"Resume:\\n{resume_text}\\n\\n\" +f\"Job Title: {job_title}\\n\"+ f\"Job Description:\\n{job_desc}\\n\\n\"+ f\"Cover Letter:\"\n",
        "\n",
        "messages = [{\"role\": \"user\", \"content\": prompt_text}]\n",
        "\n",
        "payload = {\n",
        "    \"messages\": messages,\n",
        "    \"web_access\": False,\n",
        "    \"consider_chat_history\": True,\n",
        "    \"system_prompt\": \"\",\n",
        "    \"conversation_id\": \"\"\n",
        "}\n",
        "\n",
        "headers = {\n",
        "    \"Content-Type\": \"application/json\",\n",
        "    \"X-RapidAPI-Key\": \"be5738a9e9msh08bfcd8fad98672p136d4bjsn7df8eb80c816\",\n",
        "    \"X-RapidAPI-Host\": \"open-ai32.p.rapidapi.com\"#llama-ai-mixtral-cohere-gpt-api.p.rapidapi.com\"\n",
        "}\n",
        "\n",
        "# Make the POST request to the Mixtral endpoint\n",
        "response = requests.post(url, headers=headers, json=payload)\n",
        "response_data = response.json()\n",
        "print(response_data)\n",
        "# Handle and display the response\n",
        "if response.status_code == 200: #and \"choices\" in response_data:\n",
        "    cover_letter_text = response_data.get(\"result\", \"\").strip()\n",
        "    console.print(\":rocket: [green]Cover letter generated successfully![/green] :rocket:\")\n",
        "    console.print(Panel(cover_letter_text, title=\"Cover Letter\", border_style=\"bright_magenta\"))\n",
        "else:\n",
        "    console.print(f\"[red]Request failed with status code {response.status_code}[/red]\")\n",
        "    console.print(f\"[red]{response_data}[/red]\")"
      ]
    },
    {
      "cell_type": "code",
      "execution_count": 15,
      "metadata": {
        "colab": {
          "base_uri": "https://localhost:8080/"
        },
        "id": "wR9RgXyGEaz3",
        "outputId": "7dfae85a-5997-4d7d-c7ff-1777bccd46a7"
      },
      "outputs": [
        {
          "name": "stdout",
          "output_type": "stream",
          "text": [
            "Enter sender email: iiityash@gmail.com\n",
            "Enter receiver email: iiityash@gmail.com\n",
            "Enter email password: fuwhecbducrfqwhn\n"
          ]
        }
      ],
      "source": [
        "from getpass import getpass\n",
        "sender_email = input(\"Enter sender email: \")\n",
        "receiver_email = input(\"Enter receiver email: \")\n",
        "password = input(\"Enter email password: \")"
      ]
    },
    {
      "cell_type": "code",
      "execution_count": 16,
      "metadata": {
        "colab": {
          "base_uri": "https://localhost:8080/"
        },
        "id": "QLA1Mo9KE2iG",
        "outputId": "658585eb-fe9d-4331-f21b-11e532a14591"
      },
      "outputs": [
        {
          "output_type": "stream",
          "name": "stdout",
          "text": [
            "Collecting loguru\n",
            "  Downloading loguru-0.7.3-py3-none-any.whl.metadata (22 kB)\n",
            "Downloading loguru-0.7.3-py3-none-any.whl (61 kB)\n",
            "\u001b[?25l   \u001b[90m━━━━━━━━━━━━━━━━━━━━━━━━━━━━━━━━━━━━━━━━\u001b[0m \u001b[32m0.0/61.6 kB\u001b[0m \u001b[31m?\u001b[0m eta \u001b[36m-:--:--\u001b[0m\r\u001b[2K   \u001b[90m━━━━━━━━━━━━━━━━━━━━━━━━━━━━━━━━━━━━━━━━\u001b[0m \u001b[32m61.6/61.6 kB\u001b[0m \u001b[31m4.9 MB/s\u001b[0m eta \u001b[36m0:00:00\u001b[0m\n",
            "\u001b[?25hInstalling collected packages: loguru\n",
            "Successfully installed loguru-0.7.3\n"
          ]
        }
      ],
      "source": [
        "!pip install loguru"
      ]
    },
    {
      "cell_type": "code",
      "execution_count": 17,
      "metadata": {
        "id": "DTkeSJd0FE9L"
      },
      "outputs": [],
      "source": [
        "from loguru import logger"
      ]
    },
    {
      "cell_type": "code",
      "execution_count": 18,
      "metadata": {
        "colab": {
          "base_uri": "https://localhost:8080/",
          "height": 300
        },
        "id": "Ean5Z0iGFJeg",
        "outputId": "10b4e7b1-d476-4816-8f3b-42b8ad4c093f"
      },
      "outputs": [
        {
          "output_type": "stream",
          "name": "stderr",
          "text": [
            "\u001b[32m2025-04-16 06:00:00.787\u001b[0m | \u001b[1mINFO    \u001b[0m | \u001b[36m__main__\u001b[0m:\u001b[36mcheck_new_jobs\u001b[0m:\u001b[36m244\u001b[0m - \u001b[1m[bold yellow]Checking for new job postings...[/bold yellow]\u001b[0m\n",
            "\u001b[32m2025-04-16 06:00:00.790\u001b[0m | \u001b[1mINFO    \u001b[0m | \u001b[36m__main__\u001b[0m:\u001b[36mfetch_jobs\u001b[0m:\u001b[36m152\u001b[0m - \u001b[1m[bold cyan]Fetching from Remotive: 'Network Administrator' | Location: 'None' | Remote: False[/bold cyan]\u001b[0m\n"
          ]
        },
        {
          "output_type": "stream",
          "name": "stdout",
          "text": [
            "login fail\n"
          ]
        },
        {
          "output_type": "stream",
          "name": "stderr",
          "text": [
            "\u001b[32m2025-04-16 06:00:08.198\u001b[0m | \u001b[32m\u001b[1mSUCCESS \u001b[0m | \u001b[36m__main__\u001b[0m:\u001b[36mfetch_jobs\u001b[0m:\u001b[36m184\u001b[0m - \u001b[32m\u001b[1m[green]Fetched 1 jobs from Remotive[/green]\u001b[0m\n",
            "\u001b[32m2025-04-16 06:00:08.200\u001b[0m | \u001b[1mINFO    \u001b[0m | \u001b[36m__main__\u001b[0m:\u001b[36mcheck_new_jobs\u001b[0m:\u001b[36m261\u001b[0m - \u001b[1m[bold green]Found 1 new matching job(s). Sending email alerts...[/bold green]\u001b[0m\n",
            "\u001b[32m2025-04-16 06:00:09.135\u001b[0m | \u001b[1mINFO    \u001b[0m | \u001b[36m__main__\u001b[0m:\u001b[36msend_email_notification\u001b[0m:\u001b[36m292\u001b[0m - \u001b[1m[cyan]Email sent for job: Network Administrator at Inetum[/cyan]\u001b[0m\n"
          ]
        },
        {
          "output_type": "error",
          "ename": "KeyboardInterrupt",
          "evalue": "",
          "traceback": [
            "\u001b[0;31m---------------------------------------------------------------------------\u001b[0m",
            "\u001b[0;31mKeyboardInterrupt\u001b[0m                         Traceback (most recent call last)",
            "\u001b[0;32m<ipython-input-18-8db89f399e3f>\u001b[0m in \u001b[0;36m<cell line: 0>\u001b[0;34m()\u001b[0m\n\u001b[1;32m    347\u001b[0m         \u001b[0mnotifier\u001b[0m\u001b[0;34m.\u001b[0m\u001b[0mcheck_new_jobs\u001b[0m\u001b[0;34m(\u001b[0m\u001b[0;34m)\u001b[0m\u001b[0;34m\u001b[0m\u001b[0;34m\u001b[0m\u001b[0m\n\u001b[1;32m    348\u001b[0m         \u001b[0;31m# Sleep for 5 minutes (300 seconds) before checking again\u001b[0m\u001b[0;34m\u001b[0m\u001b[0;34m\u001b[0m\u001b[0m\n\u001b[0;32m--> 349\u001b[0;31m         \u001b[0mtime\u001b[0m\u001b[0;34m.\u001b[0m\u001b[0msleep\u001b[0m\u001b[0;34m(\u001b[0m\u001b[0;36m300\u001b[0m\u001b[0;34m)\u001b[0m\u001b[0;34m\u001b[0m\u001b[0;34m\u001b[0m\u001b[0m\n\u001b[0m",
            "\u001b[0;31mKeyboardInterrupt\u001b[0m: "
          ]
        }
      ],
      "source": [
        "import os\n",
        "import time\n",
        "import logging\n",
        "from dataclasses import dataclass\n",
        "from typing import List, Optional\n",
        "\n",
        "import requests\n",
        "from bs4 import BeautifulSoup\n",
        "from loguru import logger as fuck\n",
        "\n",
        "# Use rich for logging output with colors\n",
        "from rich.logging import RichHandler\n",
        "\n",
        "logging.basicConfig(level=logging.INFO, format=\"%(message)s\", handlers=[RichHandler()])\n",
        "logger = logging.getLogger(\"job_notifier\")\n",
        "\n",
        "@dataclass\n",
        "class Job:\n",
        "    title: str\n",
        "    company: str\n",
        "    location: str\n",
        "    description: str\n",
        "    url: str\n",
        "\n",
        "@dataclass\n",
        "class JobFilters:\n",
        "    title: Optional[str] = None       # Filter by job title (substring match)\n",
        "    location: Optional[str] = None    # Filter by location (substring match)\n",
        "    remote_only: bool = False         # Only include remote jobs\n",
        "    keywords: List[str] = None        # Keywords that must appear in title or description\n",
        "\n",
        "    def matches(self, job: Job) -> bool:\n",
        "        \"\"\"Check if a job matches the given filters.\"\"\"\n",
        "        if self.title:\n",
        "            if self.title.lower() not in job.title.lower():\n",
        "                return False\n",
        "        if self.location:\n",
        "            if self.location.lower() not in job.location.lower():\n",
        "                return False\n",
        "        if self.remote_only:\n",
        "            # Consider job remote if 'remote' appears in location or title or description\n",
        "            is_remote = 'remote' in job.location.lower() or 'remote' in job.title.lower() or 'remote' in job.description.lower()\n",
        "            if not is_remote:\n",
        "                return False\n",
        "        if self.keywords:\n",
        "            for kw in self.keywords:\n",
        "                if kw.lower() not in job.description.lower() and kw.lower() not in job.title.lower():\n",
        "                    return False\n",
        "        return True\n",
        "\n",
        "class JobSource:\n",
        "    \"\"\"Abstract base class for a job listings source.\"\"\"\n",
        "    def fetch_jobs(self) -> List[Job]:\n",
        "        raise NotImplementedError\n",
        "\n",
        "class IndeedSource(JobSource):\n",
        "    \"\"\"Job source for Indeed.com (scrapes latest job listings).\"\"\"\n",
        "    BASE_URL = \"https://www.indeed.com/jobs\"\n",
        "\n",
        "    def __init__(self, query: str, location: Optional[str] = None, remote_only: bool = False):\n",
        "        self.query = query\n",
        "        self.location = location\n",
        "        self.remote_only = remote_only\n",
        "\n",
        "    def fetch_jobs(self) -> List[Job]:\n",
        "        params = {\"q\": self.query}\n",
        "        # If remote_only is set, use \"Remote\" as location filter\n",
        "        if self.remote_only:\n",
        "            params[\"l\"] = \"Remote\"\n",
        "        elif self.location:\n",
        "            params[\"l\"] = self.location\n",
        "        else:\n",
        "            params[\"l\"] = \"\"  # search all locations\n",
        "        # Sort by date to get newest jobs first\n",
        "        params[\"sort\"] = \"date\"\n",
        "        fuck.info(f\"[bold cyan]Fetching jobs from Indeed (query='{self.query}', location='{params.get('l')}')[/bold cyan]\")\n",
        "        try:\n",
        "            response = requests.get(self.BASE_URL, params=params, headers={\"User-Agent\": \"Mozilla/5.0\"})\n",
        "            if response.status_code != 200:\n",
        "                fuck.warning(f\"Indeed fetch failed with status {response.status_code}\")\n",
        "                return []\n",
        "        except Exception as e:\n",
        "            fuck.warning(f\"Exception fetching from Indeed: {e}\")\n",
        "            return []\n",
        "        soup = BeautifulSoup(response.text, \"html.parser\")\n",
        "        jobs: List[Job] = []\n",
        "        # Find job result anchors and extract job details\n",
        "        for a in soup.find_all(\"a\", href=True):\n",
        "            href = a['href']\n",
        "            title_text = a.get_text().strip()\n",
        "            if not title_text or len(title_text) < 2:\n",
        "                continue\n",
        "            # Identify job listing links by known URL patterns\n",
        "            if \"/pagead/\" in href or \"/rc/clk\" in href or \"/company/\" in href or \"/viewjob\" in href:\n",
        "                text_lower = title_text.lower()\n",
        "                if \"salary\" in text_lower or \"interview\" in text_lower or \"apply\" in text_lower:\n",
        "                    continue\n",
        "                if title_text.isupper():\n",
        "                    continue\n",
        "                job_url = href\n",
        "                if job_url.startswith(\"/\"):\n",
        "                    job_url = \"https://www.indeed.com\" + job_url\n",
        "                # Avoid duplicates\n",
        "                if any(job.url == job_url for job in jobs):\n",
        "                    continue\n",
        "                # Try to find company and location info near the anchor\n",
        "                company = \"Unknown\"\n",
        "                location = \"Unknown\"\n",
        "                job_card = a.find_parent(\"div\")\n",
        "                if job_card:\n",
        "                    company_elem = job_card.find(\"span\", {\"class\": lambda x: x and \"companyName\" in x}) \\\n",
        "                                  or job_card.find(\"span\", {\"class\": lambda x: x and \"company\" in x})\n",
        "                    location_elem = job_card.find(\"div\", {\"class\": lambda x: x and \"companyLocation\" in x}) \\\n",
        "                                   or job_card.find(\"div\", {\"class\": lambda x: x and \"location\" in x})\n",
        "                    if company_elem:\n",
        "                        company = company_elem.get_text().strip()\n",
        "                    if location_elem:\n",
        "                        location = location_elem.get_text().strip()\n",
        "                description = self._fetch_job_description(job_url)\n",
        "                jobs.append(Job(title=title_text, company=company, location=location, description=description, url=job_url))\n",
        "        fuck.info(f\"[green]Found {len(jobs)} jobs on Indeed[/green]\")\n",
        "        return jobs\n",
        "\n",
        "    def _fetch_job_description(self, url: str) -> str:\n",
        "        \"\"\"Fetch full job description from an Indeed job detail page.\"\"\"\n",
        "        try:\n",
        "            res = requests.get(url, headers={\"User-Agent\": \"Mozilla/5.0\"})\n",
        "            if res.status_code != 200:\n",
        "                fuck.warning(f\"Failed to fetch job detail (status {res.status_code}): {url}\")\n",
        "                return \"\"\n",
        "        except Exception as e:\n",
        "            fuck.warning(f\"Exception fetching job detail from {url}: {e}\")\n",
        "            return \"\"\n",
        "        detail_soup = BeautifulSoup(res.text, \"html.parser\")\n",
        "        desc_div = detail_soup.find(\"div\", {\"id\": \"jobDescriptionText\"}) \\\n",
        "                   or detail_soup.find(\"div\", {\"class\": lambda x: x and \"jobDescriptionText\" in x})\n",
        "        if desc_div:\n",
        "            return desc_div.get_text(separator=\"\\n\").strip()\n",
        "        return \"\"\n",
        "\n",
        "class RemotiveSource(JobSource):\n",
        "    \"\"\"Fetch jobs from Remotive.io using public JSON API.\"\"\"\n",
        "    BASE_URL = \"https://remotive.com/api/remote-jobs\"\n",
        "\n",
        "    def __init__(self, query: str = \"\", location: Optional[str] = None, remote_only: bool = True):\n",
        "        self.query = query\n",
        "        self.location = location\n",
        "        self.remote_only = remote_only\n",
        "\n",
        "    def fetch_jobs(self) -> List[Job]:\n",
        "        params = {\"search\": self.query}\n",
        "        fuck.info(f\"[bold cyan]Fetching from Remotive: '{self.query}' | Location: '{self.location}' | Remote: {self.remote_only}[/bold cyan]\")\n",
        "\n",
        "        try:\n",
        "            response = requests.get(self.BASE_URL, params=params, timeout=15)\n",
        "            response.raise_for_status()\n",
        "            data = response.json()\n",
        "        except Exception as e:\n",
        "            fuck.warning(f\"[red]Remotive fetch failed: {e}[/red]\")\n",
        "            return []\n",
        "\n",
        "        jobs: List[Job] = []\n",
        "        for job in data.get(\"jobs\", []):\n",
        "            title = job.get(\"title\", \"\")\n",
        "            company = job.get(\"company_name\", \"\")\n",
        "            location = job.get(\"candidate_required_location\", \"Remote\")\n",
        "            description = job.get(\"description\", \"\")\n",
        "            url = job.get(\"url\", \"\")\n",
        "\n",
        "            # Apply filters\n",
        "            if self.remote_only and \"remote\" not in location.lower():\n",
        "                continue\n",
        "            if self.location and self.location.lower() not in location.lower():\n",
        "                continue\n",
        "\n",
        "            jobs.append(Job(\n",
        "                title=title,\n",
        "                company=company,\n",
        "                location=location,\n",
        "                description=description,\n",
        "                url=url\n",
        "            ))\n",
        "\n",
        "        fuck.success(f\"[green]Fetched {len(jobs)} jobs from Remotive[/green]\")\n",
        "        return jobs\n",
        "\n",
        "    def _fetch_job_description(self, url: str) -> str:\n",
        "        return \"\"\n",
        "\n",
        "class LinkedInAPISource(JobSource):\n",
        "    \"\"\"Job source using LinkedIn Jobs Search API via RapidAPI.\"\"\"\n",
        "    API_URL = \"https://linkedin-jobs-search.p.rapidapi.com/\"\n",
        "\n",
        "    def __init__(self, api_key: str, query: str, location: Optional[str] = None):\n",
        "        self.api_key = api_key\n",
        "        self.query = query\n",
        "        self.location = location\n",
        "\n",
        "    def fetch_jobs(self) -> List[Job]:\n",
        "        if not self.api_key:\n",
        "            fuck.warning(\"LinkedInAPISource: API key not provided, skipping fetch.\")\n",
        "            return []\n",
        "        query_params = {\"keyword\": self.query or \"\"}\n",
        "        query_params[\"location\"] = self.location or \"Worldwide\"\n",
        "        query_params[\"page\"] = \"1\"\n",
        "        fuck.info(f\"[bold cyan]Fetching jobs from LinkedIn API (query='{self.query}', location='{query_params['location']}')[/bold cyan]\")\n",
        "        try:\n",
        "            response = requests.get(self.API_URL, params=query_params, headers={\n",
        "                \"X-RapidAPI-Key\": self.api_key,\n",
        "                \"X-RapidAPI-Host\": \"linkedin-jobs-search.p.rapidapi.com\"\n",
        "            })\n",
        "            if response.status_code != 200:\n",
        "                fuck.warning(f\"LinkedIn API fetch failed with status {response.status_code}\")\n",
        "                return []\n",
        "            data = response.json()\n",
        "        except Exception as e:\n",
        "            fuck.warning(f\"Exception fetching from LinkedIn API: {e}\")\n",
        "            return []\n",
        "        jobs: List[Job] = []\n",
        "        job_list = data.get(\"data\") or data.get(\"jobs\") or []\n",
        "        for item in job_list:\n",
        "            title = item.get(\"title\") or item.get(\"job_title\") or \"Untitled\"\n",
        "            company = item.get(\"company_name\") or item.get(\"company\") or \"Unknown\"\n",
        "            location = item.get(\"location\") or item.get(\"job_location\") or \"Unknown\"\n",
        "            description = item.get(\"description\") or item.get(\"job_description\") or \"\"\n",
        "            url = item.get(\"job_apply_link\") or item.get(\"job_url\") or \"\"\n",
        "            if not url and item.get(\"job_id\"):\n",
        "                url = f\"https://www.linkedin.com/jobs/view/{item['job_id']}\"\n",
        "            jobs.append(Job(title=title, company=company, location=location, description=description, url=url))\n",
        "        fuck.info(f\"[green]Found {len(jobs)} jobs from LinkedIn API[/green]\")\n",
        "        return jobs\n",
        "\n",
        "\n",
        "\n",
        "class JobNotifier:\n",
        "    def __init__(self, sources: List[JobSource], filters: JobFilters, email_config: dict):\n",
        "        self.sources = sources\n",
        "        self.filters = filters\n",
        "        self.email_config = email_config\n",
        "        self.seen_jobs: set = set()  # track URLs of seen job postings to avoid duplicates\n",
        "\n",
        "    def check_new_jobs(self):\n",
        "        \"\"\"Fetch jobs from all sources and send notifications for new matches.\"\"\"\n",
        "        fuck.info(\"[bold yellow]Checking for new job postings...[/bold yellow]\")\n",
        "        new_matches: List[Job] = []\n",
        "        for source in self.sources:\n",
        "            try:\n",
        "                jobs = source.fetch_jobs()\n",
        "            except Exception as e:\n",
        "                fuck.error(f\"Error fetching from source {source.__class__.__name__}: {e}\")\n",
        "                continue\n",
        "            for job in jobs:\n",
        "                if job.url in self.seen_jobs:\n",
        "                    continue\n",
        "                self.seen_jobs.add(job.url)\n",
        "                if self.filters.matches(job):\n",
        "                    new_matches.append(job)\n",
        "        if not new_matches:\n",
        "            fuck.info(\"[blue]No new matching jobs found.[/blue]\")\n",
        "        else:\n",
        "            fuck.info(f\"[bold green]Found {len(new_matches)} new matching job(s). Sending email alerts...[/bold green]\")\n",
        "            for job in new_matches:\n",
        "                self.send_email_notification(job)\n",
        "\n",
        "    def send_email_notification(self, job: Job):\n",
        "        \"\"\"Send an email containing the full job listing details.\"\"\"\n",
        "        import smtplib\n",
        "        from email.mime.text import MIMEText\n",
        "        from email.mime.multipart import MIMEMultipart\n",
        "        msg = MIMEMultipart(\"alternative\")\n",
        "        msg[\"Subject\"] = f\"New Job Alert: {job.title} at {job.company}\"\n",
        "        msg[\"From\"] = self.email_config.get(\"from_addr\")\n",
        "        msg[\"To\"] = self.email_config.get(\"to_addr\")\n",
        "        # Email body includes full job listing content\n",
        "        body_text = (f\"Job Title: {job.title}\\n\"\n",
        "                     f\"Company: {job.company}\\n\"\n",
        "                     f\"Location: {job.location}\\n\"\n",
        "                     f\"URL: {job.url}\\n\\n\"\n",
        "                     f\"Job Description:\\n{job.description}\\n\")\n",
        "        msg.attach(MIMEText(body_text, \"plain\"))\n",
        "        try:\n",
        "            smtp_host = self.email_config.get(\"smtp_host\", \"smtp.gmail.com\")\n",
        "            smtp_port = int(self.email_config.get(\"smtp_port\", 587))\n",
        "            smtp_user = self.email_config.get(\"smtp_user\")\n",
        "            smtp_pass = self.email_config.get(\"smtp_pass\")\n",
        "            with smtplib.SMTP(smtp_host, smtp_port) as server:\n",
        "                server.ehlo()\n",
        "                server.starttls()\n",
        "                if smtp_user and smtp_pass:\n",
        "                    server.login(smtp_user, smtp_pass)\n",
        "                server.sendmail(msg[\"From\"], [msg[\"To\"]], msg.as_string())\n",
        "            fuck.info(f\"[cyan]Email sent for job: {job.title} at {job.company}[/cyan]\")\n",
        "        except Exception as e:\n",
        "            fuck.error(f\"Failed to send email for {job.title}: {e}\")\n",
        "\n",
        "if __name__ == \"__main__\":\n",
        "    # Define the job search filters\n",
        "    \"\"\"filters = JobFilters(\n",
        "        title=\"Software Engineer\",\n",
        "        location=\"Remote\",\n",
        "        remote_only=True,\n",
        "        keywords=[\"Python\", \"Django\", \"API\"]\n",
        "    )\"\"\"\n",
        "    filters = JobFilters(\n",
        "    title=\"Network Administrator\",   # known title from Remotive\n",
        "    location=None,                   # accept any location\n",
        "    remote_only=False,               # Remotive already gives remote jobs\n",
        "    keywords=[\"Cisco\", \"network\"]    # optional — make it broader if needed\n",
        "    )\n",
        "\n",
        "    # Email configuration (use environment variables or placeholders for credentials)\n",
        "    email_config = {\n",
        "        \"from_addr\": os.environ.get(\"JOB_ALERT_FROM\", \"iiityash@gmail.com\"),\n",
        "        \"to_addr\": os.environ.get(\"JOB_ALERT_TO\", \"iiityash@gmail.com\"),\n",
        "        \"smtp_host\": os.environ.get(\"SMTP_HOST\", \"smtp.gmail.com\"),\n",
        "        \"smtp_port\": os.environ.get(\"SMTP_PORT\", 587),\n",
        "        \"smtp_user\": os.environ.get(\"SMTP_USER\", \"iiityash@gmail.com\"),   # e.g., your email/SMTP username\n",
        "        \"smtp_pass\": os.environ.get(\"SMTP_PASS\", \"fuwhecbducrfqwhn\")    # e.g., your email/SMTP password or app password\n",
        "    }\n",
        "    try:\n",
        "        with smtplib.SMTP(\"smtp.gmail.com\", 587) as server:\n",
        "            server.ehlo()\n",
        "            server.starttls()\n",
        "            server.login(\"iiityash@gmail.com\", \"fuwhecbducrfqwhn\")  # Not your Gmail password\n",
        "    except:\n",
        "        print(\"login fail\")\n",
        "    # Initialize job sources\n",
        "    sources: List[JobSource] = []\n",
        "    rapidapi_key = os.environ.get(\"RAPIDAPI_KEY\")\n",
        "    if rapidapi_key:\n",
        "        sources.append(LinkedInAPISource(api_key=rapidapi_key, query=filters.title or \"\", location=filters.location))\n",
        "    #sources.append(RemotiveSource(query=(filters.title or \"\") + (\" \" + \" \".join(filters.keywords) if filters.keywords else \"\"),\n",
        "                                 #location=filters.location, remote_only=filters.remote_only))\n",
        "    #sources.append(RemotiveSource(query=(filters.title or \"Network Administrator\"),\n",
        "                                 #location=\"Romania\", remote_only=filters.remote_only))\n",
        "    sources.append(RemotiveSource(\n",
        "    query=filters.title or \"\",\n",
        "    location=filters.location,\n",
        "    remote_only=filters.remote_only\n",
        "))\n",
        "#- Failed to send email for Network Administrator: (530, b'5.7.0 Authentication Required.\n",
        "\n",
        "    # Additional sources can be added here (e.g., another aggregator or site API)\n",
        "    notifier = JobNotifier(sources=sources, filters=filters, email_config=email_config)\n",
        "    # Run the notifier periodically\n",
        "    while True:\n",
        "        notifier.check_new_jobs()\n",
        "        # Sleep for 5 minutes (300 seconds) before checking again\n",
        "        time.sleep(300)"
      ]
    },
    {
      "cell_type": "code",
      "execution_count": 19,
      "metadata": {
        "id": "g4x9koyDFbUi"
      },
      "outputs": [],
      "source": [
        "import time\n",
        "from typing import List"
      ]
    },
    {
      "cell_type": "code",
      "execution_count": 20,
      "metadata": {
        "colab": {
          "base_uri": "https://localhost:8080/"
        },
        "id": "e-K_8vidFxeB",
        "outputId": "6c737c86-3c89-4022-d6dc-2b460a143036"
      },
      "outputs": [
        {
          "output_type": "stream",
          "name": "stdout",
          "text": [
            "Collecting docx\n",
            "  Downloading docx-0.2.4.tar.gz (54 kB)\n",
            "\u001b[?25l     \u001b[90m━━━━━━━━━━━━━━━━━━━━━━━━━━━━━━━━━━━━━━━━\u001b[0m \u001b[32m0.0/54.9 kB\u001b[0m \u001b[31m?\u001b[0m eta \u001b[36m-:--:--\u001b[0m\r\u001b[2K     \u001b[90m━━━━━━━━━━━━━━━━━━━━━━━━━━━━━━━━━━━━━━━━\u001b[0m \u001b[32m54.9/54.9 kB\u001b[0m \u001b[31m4.3 MB/s\u001b[0m eta \u001b[36m0:00:00\u001b[0m\n",
            "\u001b[?25h  Preparing metadata (setup.py) ... \u001b[?25l\u001b[?25hdone\n",
            "Requirement already satisfied: lxml in /usr/local/lib/python3.11/dist-packages (from docx) (5.3.2)\n",
            "Requirement already satisfied: Pillow>=2.0 in /usr/local/lib/python3.11/dist-packages (from docx) (11.1.0)\n",
            "Building wheels for collected packages: docx\n",
            "  Building wheel for docx (setup.py) ... \u001b[?25l\u001b[?25hdone\n",
            "  Created wheel for docx: filename=docx-0.2.4-py3-none-any.whl size=53893 sha256=eb7d1b1ebdb63cd3a2f53516610950f2a73d0f7176524c69435ce066e856a8e7\n",
            "  Stored in directory: /root/.cache/pip/wheels/c1/3e/c3/e81c11effd0be5658a035947c66792dd993bcff317eae0e1ed\n",
            "Successfully built docx\n",
            "Installing collected packages: docx\n",
            "Successfully installed docx-0.2.4\n"
          ]
        }
      ],
      "source": [
        "!pip install docx"
      ]
    },
    {
      "cell_type": "code",
      "execution_count": 21,
      "metadata": {
        "id": "fuXAGRedGGG7"
      },
      "outputs": [],
      "source": [
        "!pip install flask-ngrok -q\n",
        "from flask_ngrok import run_with_ngrok"
      ]
    },
    {
      "cell_type": "code",
      "execution_count": 22,
      "metadata": {
        "colab": {
          "base_uri": "https://localhost:8080/"
        },
        "id": "XHIxPeUaGSFO",
        "outputId": "71fb3ea9-f5b6-4090-e8ef-cf59f9d6b55c"
      },
      "outputs": [
        {
          "output_type": "stream",
          "name": "stdout",
          "text": [
            "Collecting pyngrok\n",
            "  Downloading pyngrok-7.2.4-py3-none-any.whl.metadata (8.7 kB)\n",
            "Requirement already satisfied: PyYAML>=5.1 in /usr/local/lib/python3.11/dist-packages (from pyngrok) (6.0.2)\n",
            "Downloading pyngrok-7.2.4-py3-none-any.whl (23 kB)\n",
            "Installing collected packages: pyngrok\n",
            "Successfully installed pyngrok-7.2.4\n"
          ]
        }
      ],
      "source": [
        "!pip install pyngrok"
      ]
    },
    {
      "cell_type": "code",
      "execution_count": 23,
      "metadata": {
        "id": "VLCJs-QOHj8f"
      },
      "outputs": [],
      "source": [
        "import sys\n",
        "sys.path.append('/content/drive/MyDrive/Agent-E-master_xyz')"
      ]
    },
    {
      "cell_type": "code",
      "execution_count": 24,
      "metadata": {
        "id": "jBNmNge3HsRW"
      },
      "outputs": [],
      "source": [
        "# ✅ STEP 2: Create the 'templates' folder\n",
        "!rm -rf templates\n",
        "!mkdir templates"
      ]
    },
    {
      "cell_type": "code",
      "execution_count": 25,
      "metadata": {
        "id": "w66c9xSsHyDD"
      },
      "outputs": [],
      "source": [
        "# ✅ STEP 3: Create 'index.html' inside 'templates' folder\n",
        "\n",
        "html_code = \"\"\"\n",
        "  <!-- templates/index.html -->\n",
        "  <!DOCTYPE html>\n",
        "  <html lang=\"en\">\n",
        "  <head>\n",
        "    <meta charset=\"UTF-8\" />\n",
        "    <meta name=\"viewport\" content=\"width=device-width, initial-scale=1.0\" />\n",
        "    <title>Agent-E Job Application Assistant</title>\n",
        "    <!-- Bootstrap CSS (CDN) -->\n",
        "    <link rel=\"stylesheet\" href=\"https://stackpath.bootstrapcdn.com/bootstrap/4.5.2/css/bootstrap.min.css\">\n",
        "  </head>\n",
        "  <body>\n",
        "    <div class=\"container my-5\">\n",
        "      <h1 class=\"mb-4\">Agent-E Job Application Assistant</h1>\n",
        "\n",
        "      <!-- Cover Letter Generator Form -->\n",
        "      <div class=\"card mb-4\">\n",
        "        <div class=\"card-header\">Cover Letter Generator</div>\n",
        "        <div class=\"card-body\">\n",
        "          <form action=\"{{ url_for('index') }}\" method=\"post\" enctype=\"multipart/form-data\">\n",
        "            <div class=\"form-group\">\n",
        "              <label for=\"resume\">Upload Resume:</label>\n",
        "              <input type=\"file\" class=\"form-control-file\" id=\"resume\" name=\"resume\" accept=\".pdf,.docx,.txt\" required>\n",
        "            </div>\n",
        "            <div class=\"form-group\">\n",
        "              <label for=\"job_title\">Job Title:</label>\n",
        "              <input type=\"text\" class=\"form-control\" id=\"job_title\" name=\"job_title\" placeholder=\"e.g. Software Engineer\" required value=\"{{ job_title or '' }}\">\n",
        "            </div>\n",
        "            <div class=\"form-group\">\n",
        "              <label for=\"company\">Company:</label>\n",
        "              <input type=\"text\" class=\"form-control\" id=\"company\" name=\"company\" placeholder=\"Company name\" required value=\"{{ company or '' }}\">\n",
        "            </div>\n",
        "            <div class=\"form-group\">\n",
        "              <label for=\"job_desc\">Job Description:</label>\n",
        "              <textarea class=\"form-control\" id=\"job_desc\" name=\"job_desc\" rows=\"4\" placeholder=\"Paste the job description here...\" required>{{ job_desc or '' }}</textarea>\n",
        "            </div>\n",
        "            <div class=\"form-group\">\n",
        "              <label for=\"location\">Preferred Location:</label>\n",
        "              <input type=\"text\" class=\"form-control\" id=\"location\" name=\"location\" placeholder=\"Location (optional)\" value=\"{{ location or '' }}\">\n",
        "            </div>\n",
        "            <button type=\"submit\" class=\"btn btn-primary\">Generate Cover Letter</button>\n",
        "          </form>\n",
        "        </div>\n",
        "      </div>\n",
        "\n",
        "      <!-- ✅ Place this exactly in your templates/index.html -->\n",
        "      {% if cover_letter %}\n",
        "      <div class=\"card mt-4\">\n",
        "        <div class=\"card-header bg-success text-white\">Generated Cover Letter</div>\n",
        "        <div class=\"card-body\">\n",
        "          <pre style=\"white-space: pre-wrap;\">{{ cover_letter | safe }}</pre>\n",
        "        </div>\n",
        "      </div>\n",
        "      {% else %}\n",
        "      <div class=\"alert alert-danger mt-4\">❌ Cover letter not received by frontend.</div>\n",
        "      {% endif %}\n",
        "\n",
        "\n",
        "      <!-- Job Notifications Subscription -->\n",
        "      <div class=\"card\">\n",
        "        <div class=\"card-header\">Job Notifications</div>\n",
        "        <div class=\"card-body\">\n",
        "          <!-- Subscription Form -->\n",
        "          <form action=\"{{ url_for('subscribe') }}\" method=\"post\" class=\"form-inline mb-3\">\n",
        "            <div class=\"form-group mr-2\">\n",
        "              <label for=\"email\" class=\"sr-only\">Email</label>\n",
        "              <input type=\"email\" class=\"form-control\" id=\"email\" name=\"email\" placeholder=\"Email address\" required>\n",
        "            </div>\n",
        "            <button type=\"submit\" class=\"btn btn-success\">Subscribe</button>\n",
        "          </form>\n",
        "          <!-- Send Test Notification Button -->\n",
        "          <form action=\"{{ url_for('send_test') }}\" method=\"post\">\n",
        "            <button type=\"submit\" class=\"btn btn-info\">Send Test Notification</button>\n",
        "          </form>\n",
        "          <!-- Flash Messages -->\n",
        "          {% with messages = get_flashed_messages() %}\n",
        "            {% if messages %}\n",
        "              <div class=\"mt-3\">\n",
        "                {% for msg in messages %}\n",
        "                  <div class=\"alert alert-info\">{{ msg }}</div>\n",
        "                {% endfor %}\n",
        "              </div>\n",
        "            {% endif %}\n",
        "          {% endwith %}\n",
        "        </div>\n",
        "      </div>\n",
        "    </div>\n",
        "\n",
        "    <!-- Bootstrap JS (optional, for functionality) -->\n",
        "    <script src=\"https://code.jquery.com/jquery-3.5.1.slim.min.js\"></script>\n",
        "    <script src=\"https://cdn.jsdelivr.net/npm/bootstrap@4.5.2/dist/js/bootstrap.bundle.min.js\"></script>\n",
        "  </body>\n",
        "  </html>\n",
        "\"\"\"\n",
        "\n",
        "with open(\"/content/drive/MyDrive/Agent-E-master_xyz/templates/index.html\", \"w\") as f:\n",
        "    f.write(html_code)"
      ]
    },
    {
      "cell_type": "code",
      "source": [
        "H=0"
      ],
      "metadata": {
        "id": "5Tt8h4Q-DAyh"
      },
      "execution_count": 1,
      "outputs": []
    },
    {
      "cell_type": "code",
      "execution_count": 26,
      "metadata": {
        "colab": {
          "base_uri": "https://localhost:8080/"
        },
        "id": "Yu_Kxa1kGYOP",
        "outputId": "1f0eab43-efbf-4c37-87fc-23cdd3000653"
      },
      "outputs": [
        {
          "output_type": "stream",
          "name": "stdout",
          "text": [
            " * ngrok tunnel URL: NgrokTunnel: \"https://9022-34-150-218-250.ngrok-free.app\" -> \"http://localhost:5000\"\n",
            " * Serving Flask app '__main__'\n",
            " * Debug mode: off\n"
          ]
        },
        {
          "output_type": "stream",
          "name": "stderr",
          "text": [
            "INFO:werkzeug:\u001b[31m\u001b[1mWARNING: This is a development server. Do not use it in a production deployment. Use a production WSGI server instead.\u001b[0m\n",
            " * Running on http://127.0.0.1:5000\n",
            "INFO:werkzeug:\u001b[33mPress CTRL+C to quit\u001b[0m\n",
            "ERROR:__main__:Exception on / [GET]\n",
            "Traceback (most recent call last):\n",
            "  File \"/usr/local/lib/python3.11/dist-packages/flask/app.py\", line 1511, in wsgi_app\n",
            "    response = self.full_dispatch_request()\n",
            "               ^^^^^^^^^^^^^^^^^^^^^^^^^^^^\n",
            "  File \"/usr/local/lib/python3.11/dist-packages/flask/app.py\", line 920, in full_dispatch_request\n",
            "    return self.finalize_request(rv)\n",
            "           ^^^^^^^^^^^^^^^^^^^^^^^^^\n",
            "  File \"/usr/local/lib/python3.11/dist-packages/flask/app.py\", line 939, in finalize_request\n",
            "    response = self.make_response(rv)\n",
            "               ^^^^^^^^^^^^^^^^^^^^^^\n",
            "  File \"/usr/local/lib/python3.11/dist-packages/flask/app.py\", line 1212, in make_response\n",
            "    raise TypeError(\n",
            "TypeError: The view function for 'index' did not return a valid response. The function either returned None or ended without a return statement.\n",
            "INFO:werkzeug:127.0.0.1 - - [16/Apr/2025 06:11:10] \"\u001b[35m\u001b[1mGET / HTTP/1.1\u001b[0m\" 500 -\n",
            "INFO:werkzeug:127.0.0.1 - - [16/Apr/2025 06:11:10] \"\u001b[33mGET /favicon.ico HTTP/1.1\u001b[0m\" 404 -\n",
            "WARNING:pyngrok.process.ngrok:t=2025-04-16T06:11:34+0000 lvl=warn msg=\"Stopping forwarder\" name=http-5000-5f250d7c-f95c-4b5f-87fe-04afe14d9177 acceptErr=\"failed to accept connection: Listener closed\"\n",
            "WARNING:pyngrok.process.ngrok:t=2025-04-16T06:11:34+0000 lvl=warn msg=\"Error restarting forwarder\" name=http-5000-5f250d7c-f95c-4b5f-87fe-04afe14d9177 err=\"failed to start tunnel: session closed\"\n"
          ]
        }
      ],
      "source": [
        "# app.py\n",
        "from flask import Flask, render_template, request, redirect, url_for, flash\n",
        "import os, requests, json\n",
        "import smtplib\n",
        "from email.mime.text import MIMEText\n",
        "from email.mime.multipart import MIMEMultipart\n",
        "from pyngrok import ngrok\n",
        "from pyngrok import conf\n",
        "from rich.panel import Panel\n",
        "\n",
        "appx = Flask(__name__, template_folder=\"/content/drive/MyDrive/Agent-E-master_xyz/templates\")\n",
        "appx.secret_key = \"be5738a9e9msh08bfcd8fad98672p136d4bjsn7df8eb80c816\"\n",
        "\n",
        "# In-memory list to store subscribed emails\n",
        "subscribers = []\n",
        "\n",
        "def generate_cover_letter(resume_text, job_title, company, job_desc, location):\n",
        "    \"\"\"Generate a cover letter text using resume and job info (placeholder logic).\"\"\"\n",
        "    cover_letter = []\n",
        "    cover_letter.append(\"Dear Hiring Manager,\")\n",
        "    cover_letter.append(\"\")\n",
        "    if location:\n",
        "        if location.lower() == \"remote\":\n",
        "            loc_phrase = \"working remotely\"\n",
        "        else:\n",
        "            loc_phrase = f\"working in {location}\"\n",
        "        cover_letter.append(f\"I am excited to apply for the {job_title} position at {company} ({loc_phrase}).\")\n",
        "    else:\n",
        "        cover_letter.append(f\"I am excited to apply for the {job_title} position at {company}.\")\n",
        "        cover_letter.append(f\"With my background and skills outlined in my resume, I am confident I can contribute significantly to {company}'s success.\")\n",
        "        cover_letter.append(f\"My experience has equipped me with a strong understanding of the requirements of the {job_title} role, and I am eager to bring my expertise to your team.\")\n",
        "        cover_letter.append(\"I have attached my resume for your review. I would welcome the opportunity to discuss how my qualifications match your needs in more detail.\")\n",
        "        cover_letter.append(\"\")\n",
        "        cover_letter.append(\"Thank you for considering my application. I look forward to the possibility of working with you.\")\n",
        "        cover_letter.append(\"\")\n",
        "        cover_letter.append(\"Sincerely,\")\n",
        "        cover_letter.append(\"Your Name\")\n",
        "    return \"\\n\".join(cover_letter)\n",
        "\n",
        "@appx.route(\"/\", methods=[\"GET\", \"POST\"])\n",
        "def index():\n",
        "    if request.method == \"POST\":\n",
        "        # Handle cover letter generation form submission\n",
        "        job_title = request.form.get(\"job_title\", \"\")\n",
        "        company = request.form.get(\"company\", \"\")\n",
        "        job_desc = request.form.get(\"job_desc\", \"\")\n",
        "        location = request.form.get(\"location\", \"\")\n",
        "        cover_letter_text = \"\"\n",
        "        file = request.files.get(\"resume\")\n",
        "        resume_text = \"\"\n",
        "        if not file or file.filename == \"\":\n",
        "            flash(\"Please upload a resume file to generate a cover letter.\")\n",
        "        else:\n",
        "            filename = file.filename\n",
        "            try:\n",
        "                # Extract text from the uploaded resume file (PDF, DOCX, or TXT)\n",
        "                if filename.lower().endswith(\".pdf\"):\n",
        "                    import pdfplumber\n",
        "                    with pdfplumber.open(file) as pdf:\n",
        "                        text_pages = [page.extract_text() for page in pdf.pages if page.extract_text()]\n",
        "                        resume_text = \"\\n\".join(text_pages)\n",
        "                elif filename.lower().endswith(\".docx\"):\n",
        "                    from io import BytesIO\n",
        "                    file_bytes = file.read()\n",
        "                    try:\n",
        "                        import docx\n",
        "                        doc = docx.Document(BytesIO(file_bytes))\n",
        "                        full_text = [para.text for para in doc.paragraphs]\n",
        "                        resume_text = \"\\n\".join(full_text)\n",
        "                    except ImportError:\n",
        "                        flash(\"docx library not installed. Cannot parse .docx file; please use PDF or TXT.\")\n",
        "                        resume_text = \"\"\n",
        "                elif filename.lower().endswith(\".txt\"):\n",
        "                    file_content = file.read()\n",
        "                    try:\n",
        "                        resume_text = file_content.decode(\"utf-8\")\n",
        "                    except Exception:\n",
        "                        resume_text = file_content.decode(\"latin-1\", errors=\"ignore\")\n",
        "                else:\n",
        "                    flash(\"Unsupported file type. Please upload a PDF, DOCX, or TXT file.\")\n",
        "                    resume_text = \"\"\n",
        "            except Exception as e:\n",
        "                flash(f\"Error reading resume file: {e}\")\n",
        "                resume_text = \"\"\n",
        "        #############################################################################################\n",
        "            flash(\"Job Search\")\n",
        "            flash(f\"🔍 Searching for jobs: {job_title}\")\n",
        "            api_url = \"https://jsearch.p.rapidapi.com/search\"\n",
        "            #job_query=job_title+\"in country\"+location\n",
        "            job_query = f\"Job Title: {job_title} \"+f\"in country \" + f\"location: {location}\"\n",
        "            query_params = {\"query\": job_query, \"num_pages\": 1}\n",
        "            headers = {\n",
        "                \"X-RapidAPI-Key\": os.environ.get(\"JOB_API_KEY\", os.environ.get(\"AUTOGEN_MODEL_API_KEY\")),\n",
        "                \"X-RapidAPI-Host\": \"jsearch.p.rapidapi.com\"\n",
        "            }\n",
        "            response = requests.get(api_url, params=query_params, headers=headers)\n",
        "            if response.status_code != 200:\n",
        "                flash(f\"Job API request failed: {response.status_code} - {response.text}\")\n",
        "            else:\n",
        "                jobs_data = response.json().get(\"data\", [])\n",
        "                flash(f\"🔎 Found {len(jobs_data)} jobs for query: {job_query}\")\n",
        "                for i, job in enumerate(jobs_data[:5], start=1):\n",
        "                    title = job.get(\"job_title\", \"\")\n",
        "                    company = job.get(\"employer_name\", \"\")\n",
        "                    flash(f\"{i}. {title} {company}\")\n",
        "                if not jobs_data:\n",
        "                    flash(\"No jobs found for the query.\")\n",
        "                else:\n",
        "                    #x=input(\"which of these top jobs to choose, 1-5\\n\")\n",
        "                    chosen_job = jobs_data[0]\n",
        "                    job_title = chosen_job.get(\"job_title\", \"\")\n",
        "                    company = chosen_job.get(\"employer_name\", \"\")\n",
        "                    job_desc = chosen_job.get(\"job_description\", \"\")\n",
        "                    flash(f\"📌 Using the first result: {job_title} at {company}\")\n",
        "        #######################################################################3\n",
        "            flash(\" Cover Letter Generator\")\n",
        "            #url = \"https://open-ai32.p.rapidapi.com/conversationgpt35\"\n",
        "            url=\"https://open-ai32.p.rapidapi.com/conversationllama\"\n",
        "            prompt_text = f\"Using the resume and job details provided, write a professional cover letter.\\n\\n\"+f\"Company: {company}\\n\"+ f\"Resume:\\n{resume_text}\\n\\n\" +f\"Job Title: {job_title}\\n\"+ f\"Job Description:\\n{job_desc}\\n\\n\"+ f\"Cover Letter:\"\n",
        "            messages = [{\"role\": \"user\", \"content\": prompt_text}]\n",
        "\n",
        "            payload = {\n",
        "                \"messages\": messages,\n",
        "                \"web_access\": False,\n",
        "                \"consider_chat_history\": True,\n",
        "                \"system_prompt\": \"\",\n",
        "                \"conversation_id\": \"\"\n",
        "            }\n",
        "\n",
        "            headers = {\n",
        "                \"Content-Type\": \"application/json\",\n",
        "                \"X-RapidAPI-Key\": \"be5738a9e9msh08bfcd8fad98672p136d4bjsn7df8eb80c816\",\n",
        "                \"X-RapidAPI-Host\": \"open-ai32.p.rapidapi.com\"#llama-ai-mixtral-cohere-gpt-api.p.rapidapi.com\"\n",
        "            }\n",
        "\n",
        "# Make the POST request to the Mixtral endpoint\n",
        "            response = requests.post(url, headers=headers, json=payload)\n",
        "            response_data = response.json()\n",
        "            print(response_data)\n",
        "# Handle and display the response\n",
        "            if response.status_code == 200:\n",
        "                cover_letter_text = response_data.get(\"result\", \"\").strip()\n",
        "                flash(\":rocket: over letter generated successfully! :rocket:\")\n",
        "                flash(cover_letter_text, 'success')\n",
        "            else:\n",
        "                flash(f\"Request failed with status code {response.status_code}\")\n",
        "                flash(f\"{response_data}\")\n",
        "        #####################################################################\n",
        "            if cover_letter_text:\n",
        "                cover_letter_text = cover_letter_text\n",
        "                return render_template(\"index.html\", cover_letter=cover_letter_text,job_title=job_title, company=company,job_desc=job_desc, location=location)\n",
        "            else:\n",
        "                return render_template(\"index.html\", cover_letter=None)\n",
        "\n",
        "@appx.route(\"/subscribe\", methods=[\"POST\"])\n",
        "def subscribe():\n",
        "    # Handle subscription form submission\n",
        "    email = request.form.get(\"email\")\n",
        "    if email:\n",
        "        if email in subscribers:\n",
        "            flash(f\"You are already subscribed with {email}.\")\n",
        "        else:\n",
        "            subscribers.append(email)\n",
        "            flash(f\"Subscribed to job notifications for {email}.\")\n",
        "    else:\n",
        "        flash(\"Please provide a valid email address.\")\n",
        "    return redirect(url_for(\"index\"))\n",
        "\n",
        "@appx.route(\"/send_test\", methods=[\"POST\"])\n",
        "def send_test():\n",
        "    # Handle send test notification button\n",
        "    if not subscribers:\n",
        "        flash(\"No subscribers to send notifications.\")\n",
        "    else:\n",
        "        SMTP_HOST = os.environ.get(\"SMTP_HOST\", \"smtp.gmail.com\")\n",
        "        SMTP_PORT = int(os.environ.get(\"SMTP_PORT\", 587))\n",
        "        SMTP_USER = os.environ.get(\"SMTP_USER\")\n",
        "        SMTP_PASS = os.environ.get(\"SMTP_PASS\")\n",
        "        if not SMTP_USER or not SMTP_PASS:\n",
        "            # If email credentials are not configured, simulate notification\n",
        "            flash(\"Test notification triggered (no SMTP credentials configured).\")\n",
        "        else:\n",
        "            sent_count = 0\n",
        "            for email in subscribers:\n",
        "                try:\n",
        "                    msg = MIMEMultipart(\"alternative\")\n",
        "                    msg[\"Subject\"] = \"Agent-E Job Alert Test\"\n",
        "                    msg[\"From\"] = SMTP_USER\n",
        "                    msg[\"To\"] = email\n",
        "                    body_text = (\"This is a test job alert from Agent-E.\\n\\n\"\n",
        "                                 \"Your subscription to job notifications is active.\")\n",
        "                    msg.attach(MIMEText(body_text, \"plain\"))\n",
        "                    with smtplib.SMTP(SMTP_HOST, SMTP_PORT) as server:\n",
        "                        server.starttls()\n",
        "                        server.login(SMTP_USER, SMTP_PASS)\n",
        "                        server.sendmail(SMTP_USER, email, msg.as_string())\n",
        "                    sent_count += 1\n",
        "                except Exception as e:\n",
        "                    flash(f\"Failed to send test email to {email}: {e}\")\n",
        "            if sent_count:\n",
        "                flash(f\"Test notification email sent to {sent_count} subscriber(s).\")\n",
        "    return redirect(url_for(\"index\"))\n",
        "\n",
        "if __name__ == \"__main__\":\n",
        "    #run_with_ngrok(app)\n",
        "    conf = conf.PyngrokConfig(auth_token=\"2vWZ1WNacHpRjtojmUX6PppKmu7_3vr9jHu57t9MZte43f4jL\")\n",
        "    public_url = ngrok.connect(5000, pyngrok_config=conf)\n",
        "    print(\" * ngrok tunnel URL:\", public_url)\n",
        "\n",
        "    # Run the app\n",
        "    appx.run()\n",
        "    #app.run()#debug=True)"
      ]
    },
    {
      "cell_type": "code",
      "execution_count": null,
      "metadata": {
        "id": "HVji8sykM8Bq"
      },
      "outputs": [],
      "source": []
    }
  ],
  "metadata": {
    "colab": {
      "provenance": [],
      "authorship_tag": "ABX9TyOqGsxGZaTp4aKamnenW1j5",
      "include_colab_link": true
    },
    "kernelspec": {
      "display_name": "Python 3",
      "name": "python3"
    },
    "language_info": {
      "name": "python"
    }
  },
  "nbformat": 4,
  "nbformat_minor": 0
}